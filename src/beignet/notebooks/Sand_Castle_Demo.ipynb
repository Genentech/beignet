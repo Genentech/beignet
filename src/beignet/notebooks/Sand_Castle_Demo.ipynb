{
 "nbformat": 4,
 "nbformat_minor": 0,
 "metadata": {
  "colab": {
   "name": "Sand Castle Demo.ipynb",
   "provenance": []
  },
  "kernelspec": {
   "name": "python3",
   "display_name": "Python 3"
  },
  "language_info": {
   "name": "python"
  },
  "accelerator": "GPU"
 },
 "cells": [
  {
   "cell_type": "code",
   "execution_count": 135,
   "metadata": {
    "cellView": "form",
    "id": "TJ8D-gRHPNJJ"
   },
   "outputs": [
    {
     "name": "stdout",
     "output_type": "stream",
     "text": [
      "Obtaining file:///Users/isaacsoh/com/github/Genentech/beignet\r\n",
      "  Installing build dependencies ... \u001B[?25l/^C\r\n",
      "\u001B[?25canceled\r\n",
      "\u001B[31mERROR: Operation cancelled by user\u001B[0m\u001B[31m\r\n",
      "\u001B[0m"
     ]
    },
    {
     "ename": "ModuleNotFoundError",
     "evalue": "No module named 'google'",
     "output_type": "error",
     "traceback": [
      "\u001B[0;31m---------------------------------------------------------------------------\u001B[0m",
      "\u001B[0;31mModuleNotFoundError\u001B[0m                       Traceback (most recent call last)",
      "Cell \u001B[0;32mIn[135], line 10\u001B[0m\n\u001B[1;32m      8\u001B[0m \u001B[38;5;28;01mimport\u001B[39;00m \u001B[38;5;21;01mIPython\u001B[39;00m\n\u001B[1;32m      9\u001B[0m \u001B[38;5;28;01mimport\u001B[39;00m \u001B[38;5;21;01mIPython\u001B[39;00m\u001B[38;5;21;01m.\u001B[39;00m\u001B[38;5;21;01mdisplay\u001B[39;00m\n\u001B[0;32m---> 10\u001B[0m \u001B[38;5;28;01mimport\u001B[39;00m \u001B[38;5;21;01mgoogle\u001B[39;00m\u001B[38;5;21;01m.\u001B[39;00m\u001B[38;5;21;01mcolab\u001B[39;00m\u001B[38;5;21;01m.\u001B[39;00m\u001B[38;5;21;01moutput\u001B[39;00m\n\u001B[1;32m     11\u001B[0m \u001B[38;5;28;01mimport\u001B[39;00m \u001B[38;5;21;01mimageio\u001B[39;00m\u001B[38;5;21;01m.\u001B[39;00m\u001B[38;5;21;01mv3\u001B[39;00m\n\u001B[1;32m     12\u001B[0m \u001B[38;5;28;01mimport\u001B[39;00m \u001B[38;5;21;01mnumpy\u001B[39;00m\n",
      "\u001B[0;31mModuleNotFoundError\u001B[0m: No module named 'google'"
     ]
    }
   ],
   "source": [
    "#@title Imports & Utils\n",
    "\n",
    "\n",
    "# @title Utilities\n",
    "\n",
    "import base64\n",
    "import dataclasses\n",
    "import json\n",
    "\n",
    "from IPython.display import HTML, JSON\n",
    "import google.colab.output\n",
    "import imageio.v3\n",
    "import IPython\n",
    "import IPython.display\n",
    "import matplotlib.pyplot\n",
    "import numpy\n",
    "import seaborn\n",
    "import torch\n",
    "\n",
    "from beignet.func.__dataclass import _dataclass\n",
    "import beignet.func\n",
    "\n",
    "seaborn.set_style(style=\"white\")\n",
    "\n",
    "BACKGROUND_COLOR = [0.0] * 3\n",
    "\n",
    "SIMULATION_INDEX = 0\n",
    "\n",
    "TYPE_DIMENSIONS = {\n",
    "    \"color\": 2,\n",
    "    \"diameter\": 1,\n",
    "    \"neighbor_index\": 2,\n",
    "    \"position\": 2,\n",
    "    \"size\": 1,\n",
    "}\n",
    "\n",
    "\n",
    "def make_from_image(filename, size_in_pixels):\n",
    "    position = []\n",
    "    angle = []\n",
    "    color = []\n",
    "\n",
    "    img = imageio.v3.imread(filename)\n",
    "\n",
    "    scale = 2 ** (1 / 6)\n",
    "\n",
    "    ratio = numpy.sqrt(1 - 0.25)\n",
    "\n",
    "    for i, y in enumerate(range(0, img.shape[0], size_in_pixels)):\n",
    "        for x in range(0, img.shape[1], size_in_pixels):\n",
    "            r, g, b, a = img[y, x]\n",
    "\n",
    "            if a == 255:\n",
    "                hshift = size_in_pixels * (i % 2) / 2.0\n",
    "\n",
    "                position += [\n",
    "                    [\n",
    "                        scale * (x + hshift) / size_in_pixels,\n",
    "                        scale * (img.shape[0] - y) / size_in_pixels * ratio,\n",
    "                    ],\n",
    "                ]\n",
    "\n",
    "                color += [[r / 255, g / 255, b / 255]]\n",
    "\n",
    "    img_size = torch.tensor(img.shape[:2]).T / size_in_pixels * scale\n",
    "\n",
    "    box_size = torch.max(img_size) * 1.5\n",
    "\n",
    "    position = torch.tensor(position).to(torch.float64)\n",
    "    position = position + box_size / 2.0 - img_size / 2\n",
    "\n",
    "    color = torch.tensor(color).to(torch.float64)\n",
    "\n",
    "    return box_size, position, color\n",
    "\n",
    "\n",
    "def static_field():\n",
    "    return dataclasses.field(metadata={\"static\": True})\n",
    "\n",
    "\n",
    "def to_np(*xs):\n",
    "    return [numpy.array(x) if isinstance(x, numpy.ndarray) else x for x in xs]\n",
    "\n",
    "\n",
    "@_dataclass\n",
    "class Disk:\n",
    "    position: numpy.ndarray\n",
    "    size: numpy.ndarray\n",
    "    color: numpy.ndarray\n",
    "    count: int = dataclasses.field(metadata={\"static\": True})\n",
    "\n",
    "    def __init__(self, position, diameter=1.0, color=None):\n",
    "        if color is None:\n",
    "            color = numpy.array([0.8, 0.8, 1.0])\n",
    "\n",
    "        position, diameter, color = to_np(position, diameter, color)\n",
    "\n",
    "        object.__setattr__(self, \"position\", position)\n",
    "        object.__setattr__(self, \"size\", diameter)\n",
    "        object.__setattr__(self, \"color\", color)\n",
    "        object.__setattr__(self, \"count\", position.shape[-2])\n",
    "\n",
    "    def __repr__(self):\n",
    "        return \"Disk\"\n",
    "\n",
    "\n",
    "@_dataclass\n",
    "class Sphere:\n",
    "    position: numpy.ndarray\n",
    "    size: numpy.ndarray\n",
    "    color: numpy.ndarray\n",
    "    count: int\n",
    "\n",
    "    def __init__(self, position, diameter=1.0, color=None):\n",
    "        if color is None:\n",
    "            color = numpy.array([0.8, 0.8, 1.0])\n",
    "\n",
    "        position, diameter, color = to_np(position, diameter, color)\n",
    "\n",
    "        object.__setattr__(self, \"position\", position)\n",
    "        object.__setattr__(self, \"size\", diameter)\n",
    "        object.__setattr__(self, \"color\", color)\n",
    "        object.__setattr__(self, \"count\", position.shape[-2])\n",
    "\n",
    "    def __repr__(self):\n",
    "        return \"Sphere\"\n",
    "\n",
    "\n",
    "def _encode(R):\n",
    "    dtype = R.dtype\n",
    "\n",
    "    if dtype == numpy.float64:\n",
    "        dtype = numpy.float32\n",
    "\n",
    "    if dtype == numpy.int64:\n",
    "        dtype = numpy.int32\n",
    "\n",
    "    dtype = numpy.float32\n",
    "\n",
    "    return base64.b64encode(numpy.array(R, dtype).tobytes()).decode(\"utf-8\")\n",
    "\n",
    "\n",
    "def _to_json(data):\n",
    "    try:\n",
    "        return JSON(data=data)\n",
    "    except:\n",
    "        return JSON(data=json.dumps(data))\n",
    "\n",
    "\n",
    "def render(\n",
    "    box_size,\n",
    "    geometries,\n",
    "    buffer_size=None,\n",
    "    background_color=None,\n",
    "    resolution=None,\n",
    "    frame_rate=None,\n",
    "    verbose=False,\n",
    "):\n",
    "    \"\"\"Creates a rendering front-end along with callbacks in the host program.\n",
    "\n",
    "    Args:\n",
    "      box_size: A float or an array of shape `(spatial_dimension,)`. Specifies\n",
    "        the size of the simulation volume. Used to position the camera.\n",
    "      geometries: A dictionary containing names paired with geometric objects such\n",
    "        as Disk, Sphere, or Bond.\n",
    "      buffer_size: The maximum number of timesteps to send to the font-end in a\n",
    "        single call.\n",
    "      background_color: An array of shape (3,) specifying the background color of\n",
    "        the visualization.\n",
    "      resolution: The resolution of the renderer.\n",
    "      frame_rate: An optional integer specifying the target frames-per-second\n",
    "        for the renderer.\n",
    "      verbose: Specifies whether or not the client should emit information and\n",
    "        error messages. Useful for debugging visualizations, but adds clutter.\n",
    "    \"\"\"\n",
    "    global SIMULATION_INDEX\n",
    "\n",
    "    simulation_index = SIMULATION_INDEX\n",
    "\n",
    "    frame_count = None\n",
    "    dimension = None\n",
    "\n",
    "    if not isinstance(geometries, dict):\n",
    "        geometries = {\"all\": geometries}\n",
    "\n",
    "    for geometry in geometries.values():\n",
    "        if hasattr(geometry, \"position\"):\n",
    "            assert dimension is None or geometry.position.shape[-1] == dimension\n",
    "\n",
    "            dimension = geometry.position.shape[-1]\n",
    "\n",
    "            if geometry.position.ndim == 3:\n",
    "                assert frame_count is None or frame_count == geometry.position.shape[0]\n",
    "\n",
    "                frame_count = geometry.position.shape[0]\n",
    "\n",
    "    assert dimension is not None\n",
    "\n",
    "    if isinstance(box_size, (numpy.ndarray, numpy.ndarray)):\n",
    "        if box_size.shape:\n",
    "            assert box_size.shape == (dimension,)\n",
    "\n",
    "            box_size = list(box_size)\n",
    "        else:\n",
    "            box_size = [\n",
    "                float(box_size),\n",
    "            ] * dimension\n",
    "    elif isinstance(box_size, float) or isinstance(box_size, int):\n",
    "        box_size = [\n",
    "            box_size,\n",
    "        ] * dimension\n",
    "\n",
    "    def get_metadata():\n",
    "        metadata = {\n",
    "            \"box_size\": box_size,\n",
    "            \"dimension\": dimension,\n",
    "            \"geometry\": [k for k in geometries.keys()],\n",
    "            \"simulation_idx\": simulation_index,\n",
    "        }\n",
    "\n",
    "        if frame_count is not None:\n",
    "            metadata[\"frame_count\"] = frame_count\n",
    "\n",
    "        if buffer_size is not None:\n",
    "            metadata[\"buffer_size\"] = buffer_size\n",
    "\n",
    "        if background_color is not None:\n",
    "            metadata[\"background_color\"] = background_color\n",
    "\n",
    "        if resolution is not None:\n",
    "            metadata[\"resolution\"] = resolution\n",
    "\n",
    "        if frame_rate is not None:\n",
    "            metadata[\"frame_rate\"] = frame_rate\n",
    "\n",
    "        if verbose:\n",
    "            metadata[\"verbose\"] = True\n",
    "\n",
    "        return _to_json(metadata)\n",
    "\n",
    "    google.colab.output.register_callback(\n",
    "        \"GetSimulationMetadata\",\n",
    "        get_metadata,\n",
    "    )\n",
    "\n",
    "    def get_dynamic_geometry_metadata(name):\n",
    "        assert name in geometries\n",
    "\n",
    "        geom = geometries[name]\n",
    "        geom_dict = dataclasses.asdict(geom)\n",
    "\n",
    "        geom_metadata = {\n",
    "            \"fields\": {},\n",
    "            \"shape\": str(geom),\n",
    "        }\n",
    "\n",
    "        for field in geom_dict:\n",
    "            if isinstance(geom_dict[field], list):\n",
    "                geom_dict[field] = numpy.array(geom_dict[field])\n",
    "\n",
    "            if not isinstance(geom_dict[field], numpy.ndarray):\n",
    "                geom_metadata[field] = geom_dict[field]\n",
    "\n",
    "                continue\n",
    "\n",
    "            if len(geom_dict[field].shape) == TYPE_DIMENSIONS[field] + 1:\n",
    "                geom_metadata[\"fields\"][field] = \"dynamic\"\n",
    "            elif len(geom_dict[field].shape) == TYPE_DIMENSIONS[field]:\n",
    "                geom_metadata[\"fields\"][field] = \"static\"\n",
    "            elif len(geom_dict[field].shape) == TYPE_DIMENSIONS[field] - 1:\n",
    "                geom_metadata[\"fields\"][field] = \"global\"\n",
    "\n",
    "        return _to_json(geom_metadata)\n",
    "\n",
    "    google.colab.output.register_callback(\n",
    "        f\"GetGeometryMetadata{SIMULATION_INDEX}\",\n",
    "        get_dynamic_geometry_metadata,\n",
    "    )\n",
    "\n",
    "    def get_array_chunk(name, field, offset, size):\n",
    "        assert name in geometries\n",
    "\n",
    "        geom = dataclasses.asdict(geometries[name])\n",
    "\n",
    "        assert field in geom\n",
    "\n",
    "        array = geom[field]\n",
    "\n",
    "        if isinstance(array, list):\n",
    "            array = numpy.array(array)\n",
    "\n",
    "        return _to_json({\"array_chunk\": _encode(array[offset : (offset + size)])})\n",
    "\n",
    "    google.colab.output.register_callback(\n",
    "        f\"GetArrayChunk{SIMULATION_INDEX}\",\n",
    "        get_array_chunk,\n",
    "    )\n",
    "\n",
    "    def get_array(name, field):\n",
    "        assert name in geometries\n",
    "\n",
    "        geom = dataclasses.asdict(geometries[name])\n",
    "\n",
    "        assert field in geom\n",
    "\n",
    "        array = geom[field]\n",
    "\n",
    "        if isinstance(array, list):\n",
    "            array = numpy.array(array)\n",
    "\n",
    "        return _to_json({\"array\": _encode(array)})\n",
    "\n",
    "    google.colab.output.register_callback(\n",
    "        f\"GetArray{SIMULATION_INDEX}\",\n",
    "        get_array,\n",
    "    )\n",
    "\n",
    "    SIMULATION_INDEX = SIMULATION_INDEX + 1\n",
    "\n",
    "    IPython.display.display(\n",
    "        HTML(\n",
    "            url=(\n",
    "                \"https://raw.githubusercontent.com/google/jax-md/main/jax_md/colab_tools/visualization.html\"\n",
    "            ),\n",
    "        ),\n",
    "    )"
   ]
  },
  {
   "cell_type": "markdown",
   "source": [
    "# Sand Castle"
   ],
   "metadata": {
    "id": "6kdBx8FWXf0S"
   }
  },
  {
   "cell_type": "markdown",
   "source": [
    "In this demo we simulate a sand castle and then demolish it using a projectile."
   ],
   "metadata": {
    "id": "r3wrN66gSe2D"
   }
  },
  {
   "cell_type": "markdown",
   "source": [
    "## Load the sand castle"
   ],
   "metadata": {
    "id": "qMnCulYpXmec"
   }
  },
  {
   "cell_type": "code",
   "source": [
    "box, positions, colors = make_from_image('sand_castle.png', 24)"
   ],
   "metadata": {
    "id": "qGPanHcGP4ef"
   },
   "execution_count": 93,
   "outputs": [
    {
     "name": "stderr",
     "output_type": "stream",
     "text": [
      "/var/folders/5z/n33pbk9s5vbby7s_v4vv64600000gp/T/ipykernel_13444/3437639023.py:20: DeprecationWarning: Starting with ImageIO v3 the behavior of this function will switch to that of iio.v3.imread. To keep the current behavior (and make this warning disappear) use `import imageio.v2 as imageio` or call `imageio.v2.imread` directly.\n",
      "  img = imageio.imread(filename)\n"
     ]
    }
   ]
  },
  {
   "cell_type": "code",
   "source": [
    "render(box, Disk(positions, color=colors))"
   ],
   "metadata": {
    "id": "qW9zGeOEQ5y5"
   },
   "execution_count": 94,
   "outputs": [
    {
     "name": "stdout",
     "output_type": "stream",
     "text": [
      "There are 1616 grains.\n"
     ]
    }
   ]
  },
  {
   "cell_type": "code",
   "source": [
    "print(f'There are {len(positions)} grains.')"
   ],
   "metadata": {
    "id": "pKH8s2-JWZ8S"
   },
   "execution_count": 96,
   "outputs": []
  },
  {
   "cell_type": "markdown",
   "source": [
    "## Spaces"
   ],
   "metadata": {
    "id": "JgN7LhJYar8I"
   }
  },
  {
   "cell_type": "code",
   "source": [
    "import torch\n",
    "from beignet.func import space\n",
    "\n",
    "displacement_fn, shift_fn = space(box, parallelepiped=False, remapped=False)"
   ],
   "metadata": {
    "id": "kZG8YcpqTEK7"
   },
   "execution_count": 97,
   "outputs": [
    {
     "data": {
      "text/plain": "tensor([73.9422, 62.5549])"
     },
     "execution_count": 97,
     "metadata": {},
     "output_type": "execute_result"
    }
   ]
  },
  {
   "cell_type": "code",
   "source": [
    "positions[0]"
   ],
   "metadata": {
    "id": "4MSSXHIh-dF1"
   },
   "execution_count": 98,
   "outputs": [
    {
     "data": {
      "text/plain": "tensor([-27.5003,  41.7995])"
     },
     "execution_count": 98,
     "metadata": {},
     "output_type": "execute_result"
    }
   ]
  },
  {
   "cell_type": "code",
   "source": [
    "displacement_fn(positions[0], positions[-1])"
   ],
   "metadata": {
    "id": "OHOcJN-7TdFV"
   },
   "execution_count": 99,
   "outputs": [
    {
     "data": {
      "text/plain": "tensor([83.9422, 62.5549])"
     },
     "execution_count": 99,
     "metadata": {},
     "output_type": "execute_result"
    }
   ]
  },
  {
   "cell_type": "code",
   "source": [
    "shift_fn(positions[0], torch.tensor([10.0, 0.0]))"
   ],
   "metadata": {
    "id": "Kh-WMJtR-Va2"
   },
   "execution_count": 100,
   "outputs": []
  },
  {
   "cell_type": "markdown",
   "source": [
    "## Energy"
   ],
   "metadata": {
    "id": "i0_-6MRza4s9"
   }
  },
  {
   "cell_type": "markdown",
   "source": [
    "\"Energy\" in Physics plays a similar role to \"Loss\" in machine learning.\n",
    "\n",
    "Write down an energy function between two grains of sand, $\\epsilon(r)$.\n",
    "\n",
    "The total energy will be the sum of all pairs of energies.\n",
    "\n",
    "$$E = \\sum_{i,j} \\epsilon(r_{ij})$$\n",
    "\n",
    "where $r_{ij}$ is the distance between grain $i$ and grain $j$.\n"
   ],
   "metadata": {
    "id": "_LC7N1iaa6Wm"
   }
  },
  {
   "cell_type": "markdown",
   "source": [
    "We want to model wet sand:\n",
    "\n",
    "*   Grains are hard (no interpenetration).\n",
    "*   Grains stick together a little bit.\n",
    "*   Grains far away from one another don't notice each other."
   ],
   "metadata": {
    "id": "1-wq2eV5lc7J"
   }
  },
  {
   "cell_type": "code",
   "source": [
    "import matplotlib.pyplot as plt\n",
    "from beignet import lennard_jones_potential\n",
    "\n",
    "rs = torch.linspace(0.5, 2.5, steps=50)\n",
    "plt.plot(rs, lennard_jones_potential(rs, sigma=1, epsilon=1))\n",
    "\n",
    "plt.ylim([-1, 1])\n",
    "plt.xlim([0, 2.5])\n",
    "plt.xlabel('$r_{ij}$')\n",
    "plt.ylabel('$\\\\epsilon$')"
   ],
   "metadata": {
    "id": "cBf3flaocGWN"
   },
   "execution_count": 101,
   "outputs": [
    {
     "data": {
      "text/plain": "tensor(-4977.0781)"
     },
     "execution_count": 101,
     "metadata": {},
     "output_type": "execute_result"
    }
   ]
  },
  {
   "cell_type": "code",
   "source": [
    "from beignet._lennard_jones_pair_potential import lennard_jones_pair_potential\n",
    "\n",
    "sand_energy = lennard_jones_pair_potential(displacement_fn)\n",
    "\n",
    "sand_energy(positions)"
   ],
   "metadata": {
    "id": "jlssetnHTgv7"
   },
   "execution_count": 102,
   "outputs": []
  },
  {
   "cell_type": "markdown",
   "source": [
    "## Simulate"
   ],
   "metadata": {
    "id": "NZuAjcdvdB0O"
   }
  },
  {
   "cell_type": "code",
   "source": [
    "simulation_steps = 10000\n",
    "write_every = 50"
   ],
   "metadata": {
    "id": "p-pdHb6umh9v"
   },
   "execution_count": 103,
   "outputs": []
  },
  {
   "cell_type": "code",
   "source": [
    "from beignet.func._simulate import ensemble\n",
    "\n",
    "setup_fn, step_fn = ensemble(sand_energy, shift_fn, step_size=5e-3, temperature=0.0, thermostat=\"Langevin\", friction=1e-2)\n",
    "\n",
    "sand = setup_fn(positions, temperature=0.0)"
   ],
   "metadata": {
    "id": "wvygEvsyUAxQ"
   },
   "execution_count": 104,
   "outputs": []
  },
  {
   "cell_type": "code",
   "source": [
    "trajectory = []\n",
    "\n",
    "for i in range(simulation_steps):\n",
    "  if i % write_every == 0:\n",
    "    trajectory += [sand.positions]\n",
    "\n",
    "  sand = step_fn(sand)\n",
    "\n",
    "trajectory = torch.stack(trajectory)"
   ],
   "metadata": {
    "id": "fznTbnY8UN17"
   },
   "execution_count": 105,
   "outputs": []
  },
  {
   "cell_type": "code",
   "source": [
    "render(box, Disk(trajectory, color=colors))"
   ],
   "metadata": {
    "id": "VDVSoyliUaPx"
   },
   "execution_count": 107,
   "outputs": []
  },
  {
   "cell_type": "markdown",
   "source": [
    "## Simulate slightly faster..."
   ],
   "metadata": {
    "id": "pFK2ESJ2dbu3"
   }
  },
  {
   "cell_type": "code",
   "source": [
    "import torch\n",
    "\n",
    "def simulation_fn(i, sand_trajectory, write_every, step_fn):\n",
    "    sand, trajectory = sand_trajectory\n",
    "\n",
    "    trajectory[i] = sand.positions\n",
    "    for _ in range(write_every):\n",
    "        sand = step_fn(sand)\n",
    "\n",
    "    return sand, trajectory"
   ],
   "metadata": {
    "id": "pd1vEEOeaTAX"
   },
   "execution_count": 108,
   "outputs": []
  },
  {
   "cell_type": "code",
   "source": [
    "write_steps = simulation_steps // write_every\n",
    "n = positions.shape[0]\n",
    "\n",
    "sand = setup_fn(positions, temperature=0.0)\n",
    "trajectory = torch.zeros((write_steps, n, 2))\n",
    "for i in range(write_steps):\n",
    "    sand, trajectory = simulation_fn(i, (sand, trajectory), write_every, step_fn)"
   ],
   "metadata": {
    "id": "vPzFJe5ddzTk"
   },
   "execution_count": 109,
   "outputs": []
  },
  {
   "cell_type": "code",
   "source": [
    "render(box, Disk(trajectory, color=colors))"
   ],
   "metadata": {
    "id": "Gc8faIOTb3-2"
   },
   "execution_count": 110,
   "outputs": [
    {
     "ename": "SyntaxError",
     "evalue": "invalid syntax. Perhaps you forgot a comma? (715785472.py, line 1)",
     "output_type": "error",
     "traceback": [
      "\u001B[0;36m  Cell \u001B[0;32mIn[110], line 1\u001B[0;36m\u001B[0m\n\u001B[0;31m    Model the projectile by adding a term to the energy,\u001B[0m\n\u001B[0m                                             ^\u001B[0m\n\u001B[0;31mSyntaxError\u001B[0m\u001B[0;31m:\u001B[0m invalid syntax. Perhaps you forgot a comma?\n"
     ]
    }
   ]
  },
  {
   "cell_type": "markdown",
   "source": [
    "## Let's blow it up!"
   ],
   "metadata": {
    "id": "RD3GM0wdh46k"
   }
  },
  {
   "cell_type": "markdown",
   "source": [
    "### The projectile"
   ],
   "metadata": {
    "id": "ekE9sY0HBhzf"
   }
  },
  {
   "cell_type": "code",
   "source": [
    "projectile = jnp.array([1.0, box / 3.0])\n",
    "\n",
    "radius = jnp.array(2.0)\n",
    "strength = 1000.0\n",
    "velocity = jnp.array([3e-2, 0.0])"
   ],
   "metadata": {
    "id": "ZNllJqaAh9iS"
   },
   "execution_count": 111,
   "outputs": []
  },
  {
   "cell_type": "markdown",
   "source": [
    "Model the projectile by adding a term to the energy,\n",
    "\n",
    "$$E = \\sum_{i,j}\\epsilon(r_{ij}) + \\sum_i \\epsilon_p(r_{ip})$$\n",
    "\n",
    "where $r_{ip}$ is the distance between grain $i$ and the projectile."
   ],
   "metadata": {
    "id": "BLZrybcvk16A"
   }
  },
  {
   "cell_type": "markdown",
   "source": [
    "Want the projectile to only repel the sand (no attraction)."
   ],
   "metadata": {
    "id": "l1drK7S3BDy7"
   }
  },
  {
   "cell_type": "code",
   "source": [
    "from jax_md import energy\n",
    "\n",
    "rs = jnp.linspace(0.5, 2.5)\n",
    "plt.plot(rs, energy.lennard_jones(rs))\n",
    "plt.plot(rs, energy.soft_sphere(rs, epsilon=strength))\n",
    "\n",
    "plt.ylim([-1, 10])\n",
    "plt.xlim([0, 2.5])\n",
    "plt.xlabel('$r_{ij}$')\n",
    "plt.ylabel('$\\\\epsilon$')"
   ],
   "metadata": {
    "id": "oaVEccBtA0Ve"
   },
   "execution_count": 120,
   "outputs": []
  },
  {
   "cell_type": "code",
   "source": [
    "def projectile_energy(sand, projectile):\n",
    "  distance = jnp.linalg.norm(sand - projectile, axis=-1)\n",
    "  e = energy.soft_sphere(distance, sigma=radius + 1.0, epsilon=strength)\n",
    "  return jnp.sum(e)\n",
    "\n",
    "def total_energy(sand, projectile, **kwargs):\n",
    "  return sand_energy(sand) + projectile_energy(sand, projectile)"
   ],
   "metadata": {
    "id": "Cl1rAhH4l7xT"
   },
   "execution_count": 122,
   "outputs": []
  },
  {
   "cell_type": "markdown",
   "source": [
    "### Run the simulation"
   ],
   "metadata": {
    "id": "CEXR9LPgBgzb"
   }
  },
  {
   "cell_type": "code",
   "source": [
    "from jax_md import dataclasses\n",
    "\n",
    "@dataclasses.dataclass\n",
    "class SandCastle:\n",
    "  sand: simulate.NVTLangevinState\n",
    "  projectile: jnp.ndarray"
   ],
   "metadata": {
    "id": "WHdVe6RxBnPm"
   },
   "execution_count": 123,
   "outputs": []
  },
  {
   "cell_type": "code",
   "source": [
    "simulation_steps = 10000\n",
    "write_every = 50\n",
    "write_steps = simulation_steps // write_every"
   ],
   "metadata": {
    "id": "Ot1C1QSInSCs"
   },
   "execution_count": 124,
   "outputs": []
  },
  {
   "cell_type": "code",
   "source": [
    "from jax_md import simulate\n",
    "\n",
    "init_fn, step_fn = simulate.nvt_langevin(total_energy, shift_fn, dt=5e-3, kT=0.0)"
   ],
   "metadata": {
    "id": "Lmczvx-7nSCu"
   },
   "execution_count": 125,
   "outputs": [
    {
     "ename": "SyntaxError",
     "evalue": "unterminated string literal (detected at line 3) (2448750232.py, line 3)",
     "output_type": "error",
     "traceback": [
      "\u001B[0;36m  Cell \u001B[0;32mIn[125], line 3\u001B[0;36m\u001B[0m\n\u001B[0;31m    But grains that are far apart don't affect each other.\u001B[0m\n\u001B[0m                                     ^\u001B[0m\n\u001B[0;31mSyntaxError\u001B[0m\u001B[0;31m:\u001B[0m unterminated string literal (detected at line 3)\n"
     ]
    }
   ]
  },
  {
   "cell_type": "code",
   "source": [
    "from jax import lax\n",
    "\n",
    "def simulation_fn(i, state_trajectory):\n",
    "  state, traj = state_trajectory\n",
    "\n",
    "  traj = SandCastle(\n",
    "      traj.sand.at[i].set(state.sand.position),\n",
    "      traj.projectile.at[i].set(state.projectile)\n",
    "  )\n",
    "\n",
    "  def total_step_fn(_, state):\n",
    "    return SandCastle(\n",
    "        step_fn(state.sand, projectile=state.projectile),\n",
    "        state.projectile + velocity\n",
    "    )\n",
    "\n",
    "  state = lax.fori_loop(0, write_every, total_step_fn, state)\n",
    "\n",
    "  return state, traj"
   ],
   "metadata": {
    "id": "ekEPzywlqydL"
   },
   "execution_count": 126,
   "outputs": [
    {
     "name": "stderr",
     "output_type": "stream",
     "text": [
      "/var/folders/5z/n33pbk9s5vbby7s_v4vv64600000gp/T/ipykernel_13444/3437639023.py:20: DeprecationWarning: Starting with ImageIO v3 the behavior of this function will switch to that of iio.v3.imread. To keep the current behavior (and make this warning disappear) use `import imageio.v2 as imageio` or call `imageio.v2.imread` directly.\n",
      "  img = imageio.imread(filename)\n"
     ]
    }
   ]
  },
  {
   "cell_type": "code",
   "source": [
    "n = positions.shape[0]\n",
    "\n",
    "state = SandCastle(\n",
    "    init_fn(key, positions, projectile=projectile),\n",
    "    projectile\n",
    ")\n",
    "trajectory = SandCastle(\n",
    "    jnp.zeros((write_steps, n, 2)),\n",
    "    jnp.zeros((write_steps, 2))\n",
    ")\n",
    "\n",
    "state, trajectory = lax.fori_loop(0, write_steps, simulation_fn, (state, trajectory))"
   ],
   "metadata": {
    "id": "Q6ovE-BKq__5"
   },
   "execution_count": 127,
   "outputs": [
    {
     "data": {
      "text/plain": "25961"
     },
     "execution_count": 127,
     "metadata": {},
     "output_type": "execute_result"
    }
   ]
  },
  {
   "cell_type": "code",
   "source": [
    "renderer.render(\n",
    "    box,\n",
    "    {\n",
    "        'sand': renderer.Disk(trajectory.sand, color=colors),\n",
    "        'projectile': renderer.Disk(trajectory.projectile[:, None, :],\n",
    "                                    diameter=radius * 2)\n",
    "    }\n",
    ")"
   ],
   "metadata": {
    "id": "weGWOIe5nSCw"
   },
   "execution_count": 128,
   "outputs": []
  },
  {
   "cell_type": "markdown",
   "source": [
    "## Scaling Up"
   ],
   "metadata": {
    "id": "bBdrHZWyxx8M"
   }
  },
  {
   "cell_type": "markdown",
   "source": [
    "So far at each step we have been computing the interaction between every pair of grains.\n",
    "\n",
    "But grains that are far apart don't affect each other."
   ],
   "metadata": {
    "id": "Zmws4uWnyo3w"
   }
  },
  {
   "cell_type": "code",
   "source": [
    "box, positions, colors = make_from_image('sand_castle.png', 6)"
   ],
   "metadata": {
    "id": "dzsliLymUwM4"
   },
   "execution_count": 129,
   "outputs": [
    {
     "name": "stderr",
     "output_type": "stream",
     "text": [
      "/Users/isaacsoh/com/github/Genentech/beignet/src/beignet/func/_partition.py:1054: UserWarning: To copy construct from a tensor, it is recommended to use sourceTensor.clone().detach() or sourceTensor.clone().detach().requires_grad_(True), rather than torch.tensor(sourceTensor).\n",
      "  particle_index = torch.tensor(positions / unit_size, dtype=torch.int32)\n"
     ]
    },
    {
     "name": "stdout",
     "output_type": "stream",
     "text": [
      "cell_capacity: 15\n"
     ]
    }
   ]
  },
  {
   "cell_type": "code",
   "source": [
    "len(positions)"
   ],
   "metadata": {
    "id": "fRQzUIb8cWa6"
   },
   "execution_count": 130,
   "outputs": [
    {
     "data": {
      "text/plain": "torch.Size([2, 472671])"
     },
     "execution_count": 130,
     "metadata": {},
     "output_type": "execute_result"
    }
   ]
  },
  {
   "cell_type": "code",
   "source": [
    "from jax_md.colab_tools import renderer\n",
    "\n",
    "renderer.render(box, renderer.Disk(positions, color=colors))"
   ],
   "metadata": {
    "id": "w8V3ZkMfWU22"
   },
   "execution_count": 131,
   "outputs": []
  },
  {
   "cell_type": "code",
   "source": [
    "displacement_fn, shift_fn = space.periodic(box)"
   ],
   "metadata": {
    "id": "wZqVC3Hfzh-z"
   },
   "execution_count": 132,
   "outputs": []
  },
  {
   "cell_type": "markdown",
   "source": [
    "### Neighbor lists"
   ],
   "metadata": {
    "id": "oVRhRyzTzPyo"
   }
  },
  {
   "cell_type": "code",
   "source": [
    "neighbor_fn, sand_energy = energy.lennard_jones_neighbor_list(displacement_fn, box)"
   ],
   "metadata": {
    "id": "8bDeqtG1ZptU"
   },
   "execution_count": 133,
   "outputs": []
  },
  {
   "cell_type": "code",
   "source": [
    "nbrs = neighbor_fn.allocate(positions)"
   ],
   "metadata": {
    "id": "NdJNU_CQcb17"
   },
   "execution_count": 134,
   "outputs": []
  },
  {
   "cell_type": "code",
   "source": [
    "nbrs.idx.shape"
   ],
   "metadata": {
    "id": "7lOw_tbpzr2D"
   },
   "execution_count": 86,
   "outputs": []
  },
  {
   "cell_type": "code",
   "source": [
    "def total_energy(sand, projectile, neighbor, **kwargs):\n",
    "  return sand_energy(sand, neighbor) + projectile_energy(sand, projectile)"
   ],
   "metadata": {
    "id": "5fTveQ_uz_B3"
   },
   "execution_count": null,
   "outputs": []
  },
  {
   "cell_type": "markdown",
   "source": [
    "### Simulation"
   ],
   "metadata": {
    "id": "vnBzanAr0ASZ"
   }
  },
  {
   "cell_type": "code",
   "source": [
    "simulation_steps = 30000\n",
    "write_every = 400\n",
    "write_steps = simulation_steps // write_every\n",
    "\n",
    "projectile = jnp.array([1.0, box / 3.0])\n",
    "radius = jnp.array(8.0)"
   ],
   "metadata": {
    "id": "S4gCek-t1jO8"
   },
   "execution_count": null,
   "outputs": []
  },
  {
   "cell_type": "code",
   "source": [
    "from jax_md import partition\n",
    "\n",
    "@dataclasses.dataclass\n",
    "class SandCastle:\n",
    "  sand: simulate.NVTLangevinState\n",
    "  projectile: jnp.ndarray\n",
    "  neighbor: partition.NeighborList"
   ],
   "metadata": {
    "id": "grgoCgfTDvC2"
   },
   "execution_count": null,
   "outputs": []
  },
  {
   "cell_type": "code",
   "source": [
    "from jax_md import simulate\n",
    "\n",
    "init_fn, step_fn = simulate.nvt_langevin(total_energy, shift_fn, dt=5e-3, kT=0.0, gamma=1e-2)"
   ],
   "metadata": {
    "id": "9ZfyNC68z_B5"
   },
   "execution_count": null,
   "outputs": []
  },
  {
   "cell_type": "code",
   "source": [
    "from jax import lax\n",
    "\n",
    "def simulation_fn(i, state_trajectory):\n",
    "  state, traj = state_trajectory\n",
    "\n",
    "  traj = SandCastle(\n",
    "     traj.sand.at[i].set(state.sand.position),\n",
    "     traj.projectile.at[i].set(state.projectile),\n",
    "     None\n",
    "  )\n",
    "\n",
    "  def total_step_fn(_, state):\n",
    "    sand = step_fn(state.sand,\n",
    "                   projectile=state.projectile,\n",
    "                   neighbor=state.neighbor)\n",
    "    projectile = state.projectile + velocity\n",
    "    neighbor = state.neighbor.update(state.sand.position)\n",
    "    return SandCastle(sand, projectile, neighbor)\n",
    "\n",
    "  state = lax.fori_loop(0, write_every, total_step_fn, state)\n",
    "\n",
    "  return state, traj"
   ],
   "metadata": {
    "id": "hdlf9Zwsz_B6"
   },
   "execution_count": null,
   "outputs": []
  },
  {
   "cell_type": "code",
   "source": [
    "n = positions.shape[0]\n",
    "\n",
    "state = SandCastle(\n",
    "    init_fn(random.PRNGKey(0), positions, projectile=projectile, neighbor=nbrs),\n",
    "    projectile,\n",
    "    nbrs\n",
    ")\n",
    "trajectory = SandCastle(\n",
    "    jnp.zeros((write_steps, n, 2)),\n",
    "    jnp.zeros((write_steps, 2)),\n",
    "    None\n",
    ")\n",
    "\n",
    "state, trajectory = lax.fori_loop(0, write_steps, simulation_fn, (state, trajectory))"
   ],
   "metadata": {
    "id": "oVSV6Cqdz_B6"
   },
   "execution_count": null,
   "outputs": []
  },
  {
   "cell_type": "code",
   "source": [
    "state.neighbor.did_buffer_overflow"
   ],
   "metadata": {
    "id": "AHMusBd53ZWt"
   },
   "execution_count": null,
   "outputs": []
  },
  {
   "cell_type": "code",
   "source": [
    "renderer.render(\n",
    "    box,\n",
    "    {\n",
    "        'sand': renderer.Disk(trajectory.sand, color=colors),\n",
    "        'projectile': renderer.Disk(trajectory.projectile[:, None, :],\n",
    "                                    diameter=radius * 2)\n",
    "    },\n",
    "    buffer_size=10\n",
    ")"
   ],
   "metadata": {
    "id": "r27FVIBpz_B8"
   },
   "execution_count": null,
   "outputs": []
  }
 ]
}
