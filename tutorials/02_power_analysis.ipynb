{
 "cells": [
  {
   "cell_type": "markdown",
   "metadata": {},
   "source": [
    "# Tutorial 2: Power Analysis in Beignet\n",
    "\n",
    "Learn statistical power analysis using Beignet's operators and TorchMetrics classes."
   ]
  },
  {
   "cell_type": "code",
   "execution_count": null,
   "metadata": {},
   "outputs": [],
   "source": [
    "import matplotlib.pyplot as plt\n",
    "import torch\n",
    "\n",
    "import beignet\n",
    "from beignet.metrics import (\n",
    "    CohensD,\n",
    "    IndependentZTestPower,\n",
    "    IndependentZTestSampleSize,\n",
    "    ZTestPower,\n",
    ")\n",
    "\n",
    "torch.manual_seed(42)\n",
    "print(\"Beignet Power Analysis Tutorial\")"
   ]
  },
  {
   "cell_type": "markdown",
   "metadata": {},
   "source": [
    "## 1. Effect Size Calculation"
   ]
  },
  {
   "cell_type": "code",
   "execution_count": 2,
   "metadata": {},
   "outputs": [
    {
     "name": "stdout",
     "output_type": "stream",
     "text": [
      "Cohen's d: -0.504\n"
     ]
    }
   ],
   "source": [
    "# Create sample data\n",
    "control = torch.normal(0, 1, (30,))\n",
    "treatment = torch.normal(0.5, 1, (30,))\n",
    "\n",
    "# Calculate effect size\n",
    "effect_size = beignet.cohens_d(control, treatment)\n",
    "print(f\"Cohen's d: {effect_size:.3f}\")"
   ]
  },
  {
   "cell_type": "markdown",
   "metadata": {},
   "source": [
    "## 2. Statistical Power Analysis"
   ]
  },
  {
   "cell_type": "code",
   "execution_count": null,
   "metadata": {},
   "outputs": [],
   "source": [
    "# Power analysis\n",
    "sample_size = torch.tensor(30.0)\n",
    "power = beignet.z_test_power(effect_size, sample_size, alpha=0.05)\n",
    "print(f\"Statistical power: {power:.3f} ({power * 100:.1f}%)\")"
   ]
  },
  {
   "cell_type": "markdown",
   "metadata": {},
   "source": [
    "## 3. Sample Size Determination"
   ]
  },
  {
   "cell_type": "code",
   "execution_count": null,
   "metadata": {},
   "outputs": [],
   "source": [
    "# Sample size calculation\n",
    "required_n = beignet.z_test_sample_size(effect_size, power=0.8, alpha=0.05)\n",
    "print(f\"Required sample size for 80% power: {int(required_n)}\")"
   ]
  },
  {
   "cell_type": "markdown",
   "metadata": {},
   "source": [
    "## 4. TorchMetrics Integration"
   ]
  },
  {
   "cell_type": "code",
   "execution_count": null,
   "metadata": {},
   "outputs": [],
   "source": [
    "# Initialize metrics\n",
    "power_metric = ZTestPower(alpha=0.05, alternative=\"two-sided\")\n",
    "effect_metric = CohensD(pooled=True)\n",
    "\n",
    "# Update with data\n",
    "power_metric.update(effect_size, sample_size)\n",
    "effect_metric.update(control, treatment)\n",
    "\n",
    "# Compute results\n",
    "computed_power = power_metric.compute()\n",
    "computed_effect = effect_metric.compute()\n",
    "\n",
    "print(f\"Power metric result: {computed_power:.3f}\")\n",
    "print(f\"Effect size metric result: {computed_effect:.3f}\")"
   ]
  },
  {
   "cell_type": "markdown",
   "metadata": {},
   "source": [
    "## 5. Interactive Plotting"
   ]
  },
  {
   "cell_type": "code",
   "execution_count": null,
   "metadata": {},
   "outputs": [],
   "source": [
    "# Create power analysis plot\n",
    "power_plotter = ZTestPower(alpha=0.05, alternative=\"two-sided\")\n",
    "fig = power_plotter.plot(\n",
    "    dep_var=\"effect_size\", sample_size=[10, 20, 30, 50], title=\"Power vs Effect Size\"\n",
    ")\n",
    "plt.show()\n",
    "\n",
    "print(\"Plot shows how power increases with effect size for different sample sizes\")"
   ]
  },
  {
   "cell_type": "markdown",
   "metadata": {},
   "source": [
    "## 6. PyTorch Lightning Integration\n",
    "\n",
    "Example of training a model while monitoring statistical power:"
   ]
  },
  {
   "cell_type": "code",
   "execution_count": null,
   "metadata": {},
   "outputs": [],
   "source": [
    "class PowerAnalysisCallback:\n",
    "    def __init__(self, baseline_accuracy=0.75, target_power=0.8):\n",
    "        self.baseline_accuracy = baseline_accuracy\n",
    "        self.target_power = target_power\n",
    "        self.power_metric = IndependentZTestPower(alpha=0.05, alternative=\"two-sided\")\n",
    "        self.sample_size_metric = IndependentZTestSampleSize(\n",
    "            power=target_power, alpha=0.05, alternative=\"two-sided\"\n",
    "        )\n",
    "\n",
    "    def on_validation_end(self, current_accuracy, current_sample_size, epoch):\n",
    "        # Calculate effect size from accuracies\n",
    "        accuracy_diff = current_accuracy - self.baseline_accuracy\n",
    "        pooled_variance = self.baseline_accuracy * (1 - self.baseline_accuracy)\n",
    "        effect_size = accuracy_diff / torch.sqrt(torch.tensor(pooled_variance))\n",
    "\n",
    "        # Update metrics\n",
    "        self.power_metric.update(effect_size, torch.tensor(float(current_sample_size)))\n",
    "        self.sample_size_metric.update(effect_size)\n",
    "\n",
    "        # Get recommendations\n",
    "        current_power = self.power_metric.compute()\n",
    "        recommended_size = self.sample_size_metric.compute()\n",
    "        additional_needed = max(0, int(recommended_size) - current_sample_size)\n",
    "\n",
    "        print(f\"\\nEpoch {epoch + 1} Power Analysis:\")\n",
    "        print(\n",
    "            f\"  Accuracy: {current_accuracy:.3f} vs baseline {self.baseline_accuracy:.3f}\"\n",
    "        )\n",
    "        print(f\"  Effect size: {effect_size:.3f}\")\n",
    "        print(f\"  Current power: {current_power * 100:.1f}%\")\n",
    "\n",
    "        if additional_needed > 0:\n",
    "            print(\n",
    "                f\"  📊 RECOMMENDATION: Collect {additional_needed} more samples to reach {self.target_power:.0%} power\"\n",
    "            )\n",
    "        else:\n",
    "            print(\"  ✅ SUFFICIENT: Current sample size achieves target power\")\n",
    "\n",
    "        # Reset for next epoch\n",
    "        self.power_metric.reset()\n",
    "        self.sample_size_metric.reset()\n",
    "\n",
    "        return additional_needed\n",
    "\n",
    "\n",
    "print(\"PowerAnalysisCallback defined - ready for ML training integration\")"
   ]
  },
  {
   "cell_type": "code",
   "execution_count": 8,
   "metadata": {},
   "outputs": [
    {
     "name": "stdout",
     "output_type": "stream",
     "text": [
      "Simulating model training with power analysis:\n",
      "\n",
      "Epoch 1 Power Analysis:\n",
      "  Accuracy: 0.760 vs baseline 0.750\n",
      "  Effect size: 0.023\n",
      "  Current power: 0.0%\n",
      "  📊 RECOMMENDATION: Collect 46343 more samples to reach 80% power\n",
      "\n",
      "Epoch 2 Power Analysis:\n",
      "  Accuracy: 0.780 vs baseline 0.750\n",
      "  Effect size: 0.069\n",
      "  Current power: 0.0%\n",
      "  📊 RECOMMENDATION: Collect 4972 more samples to reach 80% power\n",
      "\n",
      "Epoch 3 Power Analysis:\n",
      "  Accuracy: 0.820 vs baseline 0.750\n",
      "  Effect size: 0.162\n",
      "  Current power: 0.0%\n",
      "  📊 RECOMMENDATION: Collect 750 more samples to reach 80% power\n",
      "\n",
      "Epoch 4 Power Analysis:\n",
      "  Accuracy: 0.850 vs baseline 0.750\n",
      "  Effect size: 0.231\n",
      "  Current power: 2.7%\n",
      "  📊 RECOMMENDATION: Collect 266 more samples to reach 80% power\n",
      "\n",
      "Epoch 5 Power Analysis:\n",
      "  Accuracy: 0.870 vs baseline 0.750\n",
      "  Effect size: 0.277\n",
      "  Current power: 20.2%\n",
      "  📊 RECOMMENDATION: Collect 124 more samples to reach 80% power\n",
      "\n",
      "Demo complete! The callback provides real-time data collection recommendations.\n"
     ]
    }
   ],
   "source": [
    "# Demo: Simulate model training with power monitoring\n",
    "callback = PowerAnalysisCallback(baseline_accuracy=0.75, target_power=0.8)\n",
    "\n",
    "# Simulate improving accuracy over epochs\n",
    "accuracies = [0.76, 0.78, 0.82, 0.85, 0.87]\n",
    "sample_size = 200\n",
    "\n",
    "print(\"Simulating model training with power analysis:\")\n",
    "for epoch, acc in enumerate(accuracies):\n",
    "    additional_needed = callback.on_validation_end(acc, sample_size, epoch)\n",
    "\n",
    "print(\n",
    "    \"\\nDemo complete! The callback provides real-time data collection recommendations.\"\n",
    ")"
   ]
  },
  {
   "cell_type": "markdown",
   "metadata": {},
   "source": [
    "## Summary\n",
    "\n",
    "This tutorial covered:\n",
    "\n",
    "1. **Effect size calculation** with `cohens_d`\n",
    "2. **Power analysis** with `normal_power`\n",
    "3. **Sample size planning** with `normal_sample_size`\n",
    "4. **TorchMetrics integration** for stateful computation\n",
    "5. **Interactive plotting** for visualization\n",
    "6. **PyTorch Lightning integration** for ML workflows\n",
    "\n",
    "### Key Benefits:\n",
    "- **Real-time recommendations** for data collection\n",
    "- **Statistical rigor** in ML model evaluation\n",
    "- **Publication-ready visualizations**\n",
    "- **Seamless PyTorch integration**\n",
    "\n",
    "### Next Steps:\n",
    "- Integrate `PowerAnalysisCallback` into your training loops\n",
    "- Explore other power analysis functions (F-tests, independent samples)\n",
    "- Use plotting features for research presentations\n",
    "- Apply to your own datasets and experiments"
   ]
  }
 ],
 "metadata": {
  "kernelspec": {
   "display_name": "Python 3 (ipykernel)",
   "language": "python",
   "name": "python3"
  },
  "language_info": {
   "codemirror_mode": {
    "name": "ipython",
    "version": 3
   },
   "file_extension": ".py",
   "mimetype": "text/x-python",
   "name": "python",
   "nbconvert_exporter": "python",
   "pygments_lexer": "ipython3",
   "version": "3.12.0"
  }
 },
 "nbformat": 4,
 "nbformat_minor": 4
}