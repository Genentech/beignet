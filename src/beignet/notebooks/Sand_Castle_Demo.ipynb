{
 "nbformat": 4,
 "nbformat_minor": 0,
 "metadata": {
  "colab": {
   "name": "Sand Castle Demo.ipynb",
   "provenance": []
  },
  "kernelspec": {
   "name": "python3",
   "display_name": "Python 3"
  },
  "language_info": {
   "name": "python"
  },
  "accelerator": "GPU"
 },
 "cells": [
  {
   "cell_type": "code",
   "execution_count": 23,
   "metadata": {
    "cellView": "form",
    "id": "TJ8D-gRHPNJJ"
   },
   "outputs": [
    {
     "name": "stdout",
     "output_type": "stream",
     "text": [
      "Obtaining file:///Users/isaacsoh/com/github/Genentech/beignet\r\n",
      "  Installing build dependencies ... \u001B[?25ldone\r\n",
      "\u001B[?25h  Checking if build backend supports build_editable ... \u001B[?25ldone\r\n",
      "\u001B[?25h  Getting requirements to build editable ... \u001B[?25ldone\r\n",
      "\u001B[?25h  Preparing editable metadata (pyproject.toml) ... \u001B[?25ldone\r\n",
      "\u001B[?25hRequirement already satisfied: optree==0.11.0 in /Users/isaacsoh/miniforge3/envs/beignet/lib/python3.10/site-packages (from beignet==0.0.8.dev51) (0.11.0)\r\n",
      "Requirement already satisfied: pooch in /Users/isaacsoh/miniforge3/envs/beignet/lib/python3.10/site-packages (from beignet==0.0.8.dev51) (1.8.1)\r\n",
      "Requirement already satisfied: torch==2.2.2 in /Users/isaacsoh/miniforge3/envs/beignet/lib/python3.10/site-packages (from beignet==0.0.8.dev51) (2.2.2)\r\n",
      "Requirement already satisfied: torchaudio in /Users/isaacsoh/miniforge3/envs/beignet/lib/python3.10/site-packages (from beignet==0.0.8.dev51) (2.2.2)\r\n",
      "Requirement already satisfied: tqdm in /Users/isaacsoh/miniforge3/envs/beignet/lib/python3.10/site-packages (from beignet==0.0.8.dev51) (4.66.4)\r\n",
      "Requirement already satisfied: typing-extensions>=4.0.0 in /Users/isaacsoh/miniforge3/envs/beignet/lib/python3.10/site-packages (from optree==0.11.0->beignet==0.0.8.dev51) (4.12.2)\r\n",
      "Requirement already satisfied: filelock in /Users/isaacsoh/.local/lib/python3.10/site-packages (from torch==2.2.2->beignet==0.0.8.dev51) (3.13.1)\r\n",
      "Requirement already satisfied: sympy in /Users/isaacsoh/.local/lib/python3.10/site-packages (from torch==2.2.2->beignet==0.0.8.dev51) (1.12)\r\n",
      "Requirement already satisfied: networkx in /Users/isaacsoh/.local/lib/python3.10/site-packages (from torch==2.2.2->beignet==0.0.8.dev51) (3.2.1)\r\n",
      "Requirement already satisfied: jinja2 in /Users/isaacsoh/.local/lib/python3.10/site-packages (from torch==2.2.2->beignet==0.0.8.dev51) (3.1.3)\r\n",
      "Requirement already satisfied: fsspec in /Users/isaacsoh/miniforge3/envs/beignet/lib/python3.10/site-packages (from torch==2.2.2->beignet==0.0.8.dev51) (2024.5.0)\r\n",
      "Requirement already satisfied: platformdirs>=2.5.0 in /Users/isaacsoh/miniforge3/envs/beignet/lib/python3.10/site-packages (from pooch->beignet==0.0.8.dev51) (4.2.2)\r\n",
      "Requirement already satisfied: packaging>=20.0 in /Users/isaacsoh/.local/lib/python3.10/site-packages (from pooch->beignet==0.0.8.dev51) (23.2)\r\n",
      "Requirement already satisfied: requests>=2.19.0 in /Users/isaacsoh/miniforge3/envs/beignet/lib/python3.10/site-packages (from pooch->beignet==0.0.8.dev51) (2.32.3)\r\n",
      "Requirement already satisfied: charset-normalizer<4,>=2 in /Users/isaacsoh/.local/lib/python3.10/site-packages (from requests>=2.19.0->pooch->beignet==0.0.8.dev51) (3.3.2)\r\n",
      "Requirement already satisfied: idna<4,>=2.5 in /Users/isaacsoh/.local/lib/python3.10/site-packages (from requests>=2.19.0->pooch->beignet==0.0.8.dev51) (3.6)\r\n",
      "Requirement already satisfied: urllib3<3,>=1.21.1 in /Users/isaacsoh/miniforge3/envs/beignet/lib/python3.10/site-packages (from requests>=2.19.0->pooch->beignet==0.0.8.dev51) (2.2.1)\r\n",
      "Requirement already satisfied: certifi>=2017.4.17 in /Users/isaacsoh/.local/lib/python3.10/site-packages (from requests>=2.19.0->pooch->beignet==0.0.8.dev51) (2024.2.2)\r\n",
      "Requirement already satisfied: MarkupSafe>=2.0 in /Users/isaacsoh/.local/lib/python3.10/site-packages (from jinja2->torch==2.2.2->beignet==0.0.8.dev51) (2.1.5)\r\n",
      "Requirement already satisfied: mpmath>=0.19 in /Users/isaacsoh/.local/lib/python3.10/site-packages (from sympy->torch==2.2.2->beignet==0.0.8.dev51) (1.3.0)\r\n",
      "Building wheels for collected packages: beignet\r\n",
      "  Building editable for beignet (pyproject.toml) ... \u001B[?25ldone\r\n",
      "\u001B[?25h  Created wheel for beignet: filename=beignet-0.0.8.dev51-0.editable-py3-none-any.whl size=3455 sha256=893b91b51b1b376c840c6353b16c6414789db7af82ec334bad0feec42923d624\r\n",
      "  Stored in directory: /private/var/folders/5z/n33pbk9s5vbby7s_v4vv64600000gp/T/pip-ephem-wheel-cache-8hok_hbj/wheels/28/e3/61/028d999d7774a75be5b20b748098b6761e25a7e79dd3c45658\r\n",
      "Successfully built beignet\r\n",
      "Installing collected packages: beignet\r\n",
      "  Attempting uninstall: beignet\r\n",
      "    Found existing installation: beignet 0.0.8.dev51\r\n",
      "    Can't uninstall 'beignet'. No files were found to uninstall.\r\n",
      "Successfully installed beignet-0.0.8.dev16\r\n"
     ]
    },
    {
     "name": "stderr",
     "output_type": "stream",
     "text": [
      "/var/folders/5z/n33pbk9s5vbby7s_v4vv64600000gp/T/ipykernel_13444/3437639023.py:7: DeprecationWarning: `set_matplotlib_formats` is deprecated since IPython 7.23, directly use `matplotlib_inline.backend_inline.set_matplotlib_formats()`\n",
      "  set_matplotlib_formats('pdf', 'svg')\n"
     ]
    }
   ],
   "source": [
    "#@title Imports & Utils\n",
    "\n",
    "\n",
    "!pip install jax-md\n",
    "!wget https://raw.githubusercontent.com/google/jax-md/main/examples/models/sand_castle.png\n",
    "\n",
    "import imageio\n",
    "import jax.numpy as jnp\n",
    "\n",
    "from IPython.display import set_matplotlib_formats\n",
    "set_matplotlib_formats('pdf', 'svg')\n",
    "import matplotlib.pyplot as plt\n",
    "import seaborn as sns\n",
    "\n",
    "sns.set_style(style='white')\n",
    "background_color = [56 / 256] * 3\n",
    "\n",
    "def make_from_image(filename, size_in_pixels):\n",
    "  position = []\n",
    "  angle = []\n",
    "  color = []\n",
    "\n",
    "  img = imageio.imread(filename)\n",
    "\n",
    "  scale = 2**(1/6)\n",
    "  ratio = jnp.sqrt(1 - 0.25)\n",
    "  for i, y in enumerate(range(0, img.shape[0], size_in_pixels)):\n",
    "    for x in range(0, img.shape[1], size_in_pixels):\n",
    "      r, g, b, a = img[y, x]\n",
    "      if a == 255:\n",
    "        hshift = size_in_pixels * (i % 2) / 2.0\n",
    "        position += [[scale * (x + hshift) / size_in_pixels, scale * (img.shape[0] - y) / size_in_pixels * ratio]]\n",
    "        color += [[r / 255, g / 255, b / 255]]\n",
    "  img_size = jnp.array(img.shape[:2]).T / size_in_pixels * scale\n",
    "  box_size = jnp.max(img_size) * 1.5\n",
    "  position = jnp.array(position, jnp.float64) + box_size / 2.0 - img_size / 2\n",
    "  color = jnp.array(color, jnp.float64)\n",
    "\n",
    "  return box_size, position, color"
   ]
  },
  {
   "cell_type": "markdown",
   "source": [
    "# Sand Castle"
   ],
   "metadata": {
    "id": "6kdBx8FWXf0S"
   }
  },
  {
   "cell_type": "markdown",
   "source": [
    "In this demo we simulate a sand castle and then demolish it using a projectile."
   ],
   "metadata": {
    "id": "r3wrN66gSe2D"
   }
  },
  {
   "cell_type": "markdown",
   "source": [
    "## Load the sand castle"
   ],
   "metadata": {
    "id": "qMnCulYpXmec"
   }
  },
  {
   "cell_type": "code",
   "source": [
    "box, positions, colors = make_from_image('sand_castle.png', 24)"
   ],
   "metadata": {
    "id": "qGPanHcGP4ef"
   },
   "execution_count": 24,
   "outputs": [
    {
     "name": "stderr",
     "output_type": "stream",
     "text": [
      "/var/folders/5z/n33pbk9s5vbby7s_v4vv64600000gp/T/ipykernel_13444/3437639023.py:20: DeprecationWarning: Starting with ImageIO v3 the behavior of this function will switch to that of iio.v3.imread. To keep the current behavior (and make this warning disappear) use `import imageio.v2 as imageio` or call `imageio.v2.imread` directly.\n",
      "  img = imageio.imread(filename)\n"
     ]
    }
   ]
  },
  {
   "cell_type": "code",
   "source": [
    "from jax_md.colab_tools import renderer\n",
    "\n",
    "renderer.render(box,\n",
    "                renderer.Disk(positions, color=colors))"
   ],
   "metadata": {
    "id": "qW9zGeOEQ5y5"
   },
   "execution_count": 26,
   "outputs": [
    {
     "name": "stdout",
     "output_type": "stream",
     "text": [
      "There are 1616 grains.\n"
     ]
    }
   ]
  },
  {
   "cell_type": "code",
   "source": [
    "print(f'There are {len(positions)} grains.')"
   ],
   "metadata": {
    "id": "pKH8s2-JWZ8S"
   },
   "execution_count": null,
   "outputs": []
  },
  {
   "cell_type": "markdown",
   "source": [
    "## Spaces"
   ],
   "metadata": {
    "id": "JgN7LhJYar8I"
   }
  },
  {
   "cell_type": "code",
   "source": [
    "import torch\n",
    "from beignet.func import space\n",
    "\n",
    "box = torch.tensor()\n",
    "displacement_fn, shift_fn = space(box)"
   ],
   "metadata": {
    "id": "kZG8YcpqTEK7"
   },
   "execution_count": 27,
   "outputs": []
  },
  {
   "cell_type": "code",
   "source": [
    "positions[0]"
   ],
   "metadata": {
    "id": "4MSSXHIh-dF1"
   },
   "execution_count": 28,
   "outputs": [
    {
     "data": {
      "text/plain": "tensor([73.9422, 62.5549])"
     },
     "execution_count": 28,
     "metadata": {},
     "output_type": "execute_result"
    }
   ]
  },
  {
   "cell_type": "code",
   "source": [
    "displacement_fn(positions[0], positions[-1])"
   ],
   "metadata": {
    "id": "OHOcJN-7TdFV"
   },
   "execution_count": 29,
   "outputs": [
    {
     "data": {
      "text/plain": "tensor([-27.5003,  41.7995])"
     },
     "execution_count": 29,
     "metadata": {},
     "output_type": "execute_result"
    }
   ]
  },
  {
   "cell_type": "code",
   "source": [
    "shift_fn(positions[0], jnp.array([10.0, 0.0]))"
   ],
   "metadata": {
    "id": "Kh-WMJtR-Va2"
   },
   "execution_count": 30,
   "outputs": [
    {
     "data": {
      "text/plain": "tensor([83.9422, 62.5549])"
     },
     "execution_count": 30,
     "metadata": {},
     "output_type": "execute_result"
    }
   ]
  },
  {
   "cell_type": "markdown",
   "source": [
    "## Energy"
   ],
   "metadata": {
    "id": "i0_-6MRza4s9"
   }
  },
  {
   "cell_type": "markdown",
   "source": [
    "\"Energy\" in Physics plays a similar role to \"Loss\" in machine learning.\n",
    "\n",
    "Write down an energy function between two grains of sand, $\\epsilon(r)$.\n",
    "\n",
    "The total energy will be the sum of all pairs of energies.\n",
    "\n",
    "$$E = \\sum_{i,j} \\epsilon(r_{ij})$$\n",
    "\n",
    "where $r_{ij}$ is the distance between grain $i$ and grain $j$.\n"
   ],
   "metadata": {
    "id": "_LC7N1iaa6Wm"
   }
  },
  {
   "cell_type": "markdown",
   "source": [
    "We want to model wet sand:\n",
    "\n",
    "*   Grains are hard (no interpenetration).\n",
    "*   Grains stick together a little bit.\n",
    "*   Grains far away from one another don't notice each other."
   ],
   "metadata": {
    "id": "1-wq2eV5lc7J"
   }
  },
  {
   "cell_type": "code",
   "source": [
    "from jax_md import energy\n",
    "\n",
    "rs = jnp.linspace(0.5, 2.5)\n",
    "plt.plot(rs, energy.lennard_jones(rs))\n",
    "\n",
    "plt.ylim([-1, 1])\n",
    "plt.xlim([0, 2.5])\n",
    "plt.xlabel('$r_{ij}$')\n",
    "plt.ylabel('$\\\\epsilon$')"
   ],
   "metadata": {
    "id": "cBf3flaocGWN"
   },
   "execution_count": 35,
   "outputs": [
    {
     "data": {
      "text/plain": "Text(0, 0.5, '$\\\\epsilon$')"
     },
     "execution_count": 35,
     "metadata": {},
     "output_type": "execute_result"
    },
    {
     "data": {
      "text/plain": "<Figure size 640x480 with 1 Axes>",
      "image/svg+xml": "<?xml version=\"1.0\" encoding=\"utf-8\" standalone=\"no\"?>\n<!DOCTYPE svg PUBLIC \"-//W3C//DTD SVG 1.1//EN\"\n  \"http://www.w3.org/Graphics/SVG/1.1/DTD/svg11.dtd\">\n<svg xmlns:xlink=\"http://www.w3.org/1999/xlink\" width=\"423.916875pt\" height=\"313.381531pt\" viewBox=\"0 0 423.916875 313.381531\" xmlns=\"http://www.w3.org/2000/svg\" version=\"1.1\">\n <metadata>\n  <rdf:RDF xmlns:dc=\"http://purl.org/dc/elements/1.1/\" xmlns:cc=\"http://creativecommons.org/ns#\" xmlns:rdf=\"http://www.w3.org/1999/02/22-rdf-syntax-ns#\">\n   <cc:Work>\n    <dc:type rdf:resource=\"http://purl.org/dc/dcmitype/StillImage\"/>\n    <dc:date>2024-07-29T10:40:55.520469</dc:date>\n    <dc:format>image/svg+xml</dc:format>\n    <dc:creator>\n     <cc:Agent>\n      <dc:title>Matplotlib v3.8.3, https://matplotlib.org/</dc:title>\n     </cc:Agent>\n    </dc:creator>\n   </cc:Work>\n  </rdf:RDF>\n </metadata>\n <defs>\n  <style type=\"text/css\">*{stroke-linejoin: round; stroke-linecap: butt}</style>\n </defs>\n <g id=\"figure_1\">\n  <g id=\"patch_1\">\n   <path d=\"M 0 313.381531 \nL 423.916875 313.381531 \nL 423.916875 0 \nL 0 0 \nz\n\" style=\"fill: #ffffff\"/>\n  </g>\n  <g id=\"axes_1\">\n   <g id=\"patch_2\">\n    <path d=\"M 52.646875 276.890906 \nL 409.766875 276.890906 \nL 409.766875 10.778906 \nL 52.646875 10.778906 \nz\n\" style=\"fill: #ffffff\"/>\n   </g>\n   <g id=\"matplotlib.axis_1\">\n    <g id=\"xtick_1\">\n     <g id=\"text_1\">\n      <!-- 0.0 -->\n      <g style=\"fill: #262626\" transform=\"translate(45.696875 291.048719) scale(0.1 -0.1)\">\n       <defs>\n        <path id=\"ArialMT-30\" d=\"M 266 2259 \nQ 266 3072 433 3567 \nQ 600 4063 929 4331 \nQ 1259 4600 1759 4600 \nQ 2128 4600 2406 4451 \nQ 2684 4303 2865 4023 \nQ 3047 3744 3150 3342 \nQ 3253 2941 3253 2259 \nQ 3253 1453 3087 958 \nQ 2922 463 2592 192 \nQ 2263 -78 1759 -78 \nQ 1097 -78 719 397 \nQ 266 969 266 2259 \nz\nM 844 2259 \nQ 844 1131 1108 757 \nQ 1372 384 1759 384 \nQ 2147 384 2411 759 \nQ 2675 1134 2675 2259 \nQ 2675 3391 2411 3762 \nQ 2147 4134 1753 4134 \nQ 1366 4134 1134 3806 \nQ 844 3388 844 2259 \nz\n\" transform=\"scale(0.015625)\"/>\n        <path id=\"ArialMT-2e\" d=\"M 581 0 \nL 581 641 \nL 1222 641 \nL 1222 0 \nL 581 0 \nz\n\" transform=\"scale(0.015625)\"/>\n       </defs>\n       <use xlink:href=\"#ArialMT-30\"/>\n       <use xlink:href=\"#ArialMT-2e\" x=\"55.615234\"/>\n       <use xlink:href=\"#ArialMT-30\" x=\"83.398438\"/>\n      </g>\n     </g>\n    </g>\n    <g id=\"xtick_2\">\n     <g id=\"text_2\">\n      <!-- 0.5 -->\n      <g style=\"fill: #262626\" transform=\"translate(117.120875 291.048719) scale(0.1 -0.1)\">\n       <defs>\n        <path id=\"ArialMT-35\" d=\"M 266 1200 \nL 856 1250 \nQ 922 819 1161 601 \nQ 1400 384 1738 384 \nQ 2144 384 2425 690 \nQ 2706 997 2706 1503 \nQ 2706 1984 2436 2262 \nQ 2166 2541 1728 2541 \nQ 1456 2541 1237 2417 \nQ 1019 2294 894 2097 \nL 366 2166 \nL 809 4519 \nL 3088 4519 \nL 3088 3981 \nL 1259 3981 \nL 1013 2750 \nQ 1425 3038 1878 3038 \nQ 2478 3038 2890 2622 \nQ 3303 2206 3303 1553 \nQ 3303 931 2941 478 \nQ 2500 -78 1738 -78 \nQ 1113 -78 717 272 \nQ 322 622 266 1200 \nz\n\" transform=\"scale(0.015625)\"/>\n       </defs>\n       <use xlink:href=\"#ArialMT-30\"/>\n       <use xlink:href=\"#ArialMT-2e\" x=\"55.615234\"/>\n       <use xlink:href=\"#ArialMT-35\" x=\"83.398438\"/>\n      </g>\n     </g>\n    </g>\n    <g id=\"xtick_3\">\n     <g id=\"text_3\">\n      <!-- 1.0 -->\n      <g style=\"fill: #262626\" transform=\"translate(188.544875 291.048719) scale(0.1 -0.1)\">\n       <defs>\n        <path id=\"ArialMT-31\" d=\"M 2384 0 \nL 1822 0 \nL 1822 3584 \nQ 1619 3391 1289 3197 \nQ 959 3003 697 2906 \nL 697 3450 \nQ 1169 3672 1522 3987 \nQ 1875 4303 2022 4600 \nL 2384 4600 \nL 2384 0 \nz\n\" transform=\"scale(0.015625)\"/>\n       </defs>\n       <use xlink:href=\"#ArialMT-31\"/>\n       <use xlink:href=\"#ArialMT-2e\" x=\"55.615234\"/>\n       <use xlink:href=\"#ArialMT-30\" x=\"83.398438\"/>\n      </g>\n     </g>\n    </g>\n    <g id=\"xtick_4\">\n     <g id=\"text_4\">\n      <!-- 1.5 -->\n      <g style=\"fill: #262626\" transform=\"translate(259.968875 291.048719) scale(0.1 -0.1)\">\n       <use xlink:href=\"#ArialMT-31\"/>\n       <use xlink:href=\"#ArialMT-2e\" x=\"55.615234\"/>\n       <use xlink:href=\"#ArialMT-35\" x=\"83.398438\"/>\n      </g>\n     </g>\n    </g>\n    <g id=\"xtick_5\">\n     <g id=\"text_5\">\n      <!-- 2.0 -->\n      <g style=\"fill: #262626\" transform=\"translate(331.392875 291.048719) scale(0.1 -0.1)\">\n       <defs>\n        <path id=\"ArialMT-32\" d=\"M 3222 541 \nL 3222 0 \nL 194 0 \nQ 188 203 259 391 \nQ 375 700 629 1000 \nQ 884 1300 1366 1694 \nQ 2113 2306 2375 2664 \nQ 2638 3022 2638 3341 \nQ 2638 3675 2398 3904 \nQ 2159 4134 1775 4134 \nQ 1369 4134 1125 3890 \nQ 881 3647 878 3216 \nL 300 3275 \nQ 359 3922 746 4261 \nQ 1134 4600 1788 4600 \nQ 2447 4600 2831 4234 \nQ 3216 3869 3216 3328 \nQ 3216 3053 3103 2787 \nQ 2991 2522 2730 2228 \nQ 2469 1934 1863 1422 \nQ 1356 997 1212 845 \nQ 1069 694 975 541 \nL 3222 541 \nz\n\" transform=\"scale(0.015625)\"/>\n       </defs>\n       <use xlink:href=\"#ArialMT-32\"/>\n       <use xlink:href=\"#ArialMT-2e\" x=\"55.615234\"/>\n       <use xlink:href=\"#ArialMT-30\" x=\"83.398438\"/>\n      </g>\n     </g>\n    </g>\n    <g id=\"xtick_6\">\n     <g id=\"text_6\">\n      <!-- 2.5 -->\n      <g style=\"fill: #262626\" transform=\"translate(402.816875 291.048719) scale(0.1 -0.1)\">\n       <use xlink:href=\"#ArialMT-32\"/>\n       <use xlink:href=\"#ArialMT-2e\" x=\"55.615234\"/>\n       <use xlink:href=\"#ArialMT-35\" x=\"83.398438\"/>\n      </g>\n     </g>\n    </g>\n    <g id=\"text_7\">\n     <!-- $r_{ij}$ -->\n     <g style=\"fill: #262626\" transform=\"translate(227.056875 303.081531) scale(0.1 -0.1)\">\n      <defs>\n       <path id=\"DejaVuSans-Oblique-72\" d=\"M 2853 2969 \nQ 2766 3016 2653 3041 \nQ 2541 3066 2413 3066 \nQ 1953 3066 1609 2717 \nQ 1266 2369 1153 1784 \nL 800 0 \nL 225 0 \nL 909 3500 \nL 1484 3500 \nL 1375 2956 \nQ 1603 3259 1920 3421 \nQ 2238 3584 2597 3584 \nQ 2691 3584 2781 3573 \nQ 2872 3563 2963 3538 \nL 2853 2969 \nz\n\" transform=\"scale(0.015625)\"/>\n       <path id=\"DejaVuSans-Oblique-69\" d=\"M 1172 4863 \nL 1747 4863 \nL 1606 4134 \nL 1031 4134 \nL 1172 4863 \nz\nM 909 3500 \nL 1484 3500 \nL 800 0 \nL 225 0 \nL 909 3500 \nz\n\" transform=\"scale(0.015625)\"/>\n       <path id=\"DejaVuSans-Oblique-6a\" d=\"M 928 3500 \nL 1503 3500 \nL 813 -63 \nL 809 -78 \nQ 694 -675 544 -897 \nQ 403 -1106 132 -1218 \nQ -138 -1331 -506 -1331 \nL -722 -1331 \nL -628 -844 \nL -481 -844 \nQ -144 -844 -1 -703 \nQ 141 -563 238 -63 \nL 928 3500 \nz\nM 1197 4863 \nL 1772 4863 \nL 1631 4134 \nL 1056 4134 \nL 1197 4863 \nz\n\" transform=\"scale(0.015625)\"/>\n      </defs>\n      <use xlink:href=\"#DejaVuSans-Oblique-72\"/>\n      <use xlink:href=\"#DejaVuSans-Oblique-69\" transform=\"translate(41.113281 -16.40625) scale(0.7)\"/>\n      <use xlink:href=\"#DejaVuSans-Oblique-6a\" transform=\"translate(60.561523 -16.40625) scale(0.7)\"/>\n     </g>\n    </g>\n   </g>\n   <g id=\"matplotlib.axis_2\">\n    <g id=\"ytick_1\">\n     <g id=\"text_8\">\n      <!-- −1.00 -->\n      <g style=\"fill: #262626\" transform=\"translate(20.345313 280.469812) scale(0.1 -0.1)\">\n       <defs>\n        <path id=\"ArialMT-2212\" d=\"M 3381 1997 \nL 356 1997 \nL 356 2522 \nL 3381 2522 \nL 3381 1997 \nz\n\" transform=\"scale(0.015625)\"/>\n       </defs>\n       <use xlink:href=\"#ArialMT-2212\"/>\n       <use xlink:href=\"#ArialMT-31\" x=\"58.398438\"/>\n       <use xlink:href=\"#ArialMT-2e\" x=\"114.013672\"/>\n       <use xlink:href=\"#ArialMT-30\" x=\"141.796875\"/>\n       <use xlink:href=\"#ArialMT-30\" x=\"197.412109\"/>\n      </g>\n     </g>\n    </g>\n    <g id=\"ytick_2\">\n     <g id=\"text_9\">\n      <!-- −0.75 -->\n      <g style=\"fill: #262626\" transform=\"translate(20.345313 247.205812) scale(0.1 -0.1)\">\n       <defs>\n        <path id=\"ArialMT-37\" d=\"M 303 3981 \nL 303 4522 \nL 3269 4522 \nL 3269 4084 \nQ 2831 3619 2401 2847 \nQ 1972 2075 1738 1259 \nQ 1569 684 1522 0 \nL 944 0 \nQ 953 541 1156 1306 \nQ 1359 2072 1739 2783 \nQ 2119 3494 2547 3981 \nL 303 3981 \nz\n\" transform=\"scale(0.015625)\"/>\n       </defs>\n       <use xlink:href=\"#ArialMT-2212\"/>\n       <use xlink:href=\"#ArialMT-30\" x=\"58.398438\"/>\n       <use xlink:href=\"#ArialMT-2e\" x=\"114.013672\"/>\n       <use xlink:href=\"#ArialMT-37\" x=\"141.796875\"/>\n       <use xlink:href=\"#ArialMT-35\" x=\"197.412109\"/>\n      </g>\n     </g>\n    </g>\n    <g id=\"ytick_3\">\n     <g id=\"text_10\">\n      <!-- −0.50 -->\n      <g style=\"fill: #262626\" transform=\"translate(20.345313 213.941812) scale(0.1 -0.1)\">\n       <use xlink:href=\"#ArialMT-2212\"/>\n       <use xlink:href=\"#ArialMT-30\" x=\"58.398438\"/>\n       <use xlink:href=\"#ArialMT-2e\" x=\"114.013672\"/>\n       <use xlink:href=\"#ArialMT-35\" x=\"141.796875\"/>\n       <use xlink:href=\"#ArialMT-30\" x=\"197.412109\"/>\n      </g>\n     </g>\n    </g>\n    <g id=\"ytick_4\">\n     <g id=\"text_11\">\n      <!-- −0.25 -->\n      <g style=\"fill: #262626\" transform=\"translate(20.345313 180.677812) scale(0.1 -0.1)\">\n       <use xlink:href=\"#ArialMT-2212\"/>\n       <use xlink:href=\"#ArialMT-30\" x=\"58.398438\"/>\n       <use xlink:href=\"#ArialMT-2e\" x=\"114.013672\"/>\n       <use xlink:href=\"#ArialMT-32\" x=\"141.796875\"/>\n       <use xlink:href=\"#ArialMT-35\" x=\"197.412109\"/>\n      </g>\n     </g>\n    </g>\n    <g id=\"ytick_5\">\n     <g id=\"text_12\">\n      <!-- 0.00 -->\n      <g style=\"fill: #262626\" transform=\"translate(26.185938 147.413812) scale(0.1 -0.1)\">\n       <use xlink:href=\"#ArialMT-30\"/>\n       <use xlink:href=\"#ArialMT-2e\" x=\"55.615234\"/>\n       <use xlink:href=\"#ArialMT-30\" x=\"83.398438\"/>\n       <use xlink:href=\"#ArialMT-30\" x=\"139.013672\"/>\n      </g>\n     </g>\n    </g>\n    <g id=\"ytick_6\">\n     <g id=\"text_13\">\n      <!-- 0.25 -->\n      <g style=\"fill: #262626\" transform=\"translate(26.185938 114.149812) scale(0.1 -0.1)\">\n       <use xlink:href=\"#ArialMT-30\"/>\n       <use xlink:href=\"#ArialMT-2e\" x=\"55.615234\"/>\n       <use xlink:href=\"#ArialMT-32\" x=\"83.398438\"/>\n       <use xlink:href=\"#ArialMT-35\" x=\"139.013672\"/>\n      </g>\n     </g>\n    </g>\n    <g id=\"ytick_7\">\n     <g id=\"text_14\">\n      <!-- 0.50 -->\n      <g style=\"fill: #262626\" transform=\"translate(26.185938 80.885812) scale(0.1 -0.1)\">\n       <use xlink:href=\"#ArialMT-30\"/>\n       <use xlink:href=\"#ArialMT-2e\" x=\"55.615234\"/>\n       <use xlink:href=\"#ArialMT-35\" x=\"83.398438\"/>\n       <use xlink:href=\"#ArialMT-30\" x=\"139.013672\"/>\n      </g>\n     </g>\n    </g>\n    <g id=\"ytick_8\">\n     <g id=\"text_15\">\n      <!-- 0.75 -->\n      <g style=\"fill: #262626\" transform=\"translate(26.185938 47.621812) scale(0.1 -0.1)\">\n       <use xlink:href=\"#ArialMT-30\"/>\n       <use xlink:href=\"#ArialMT-2e\" x=\"55.615234\"/>\n       <use xlink:href=\"#ArialMT-37\" x=\"83.398438\"/>\n       <use xlink:href=\"#ArialMT-35\" x=\"139.013672\"/>\n      </g>\n     </g>\n    </g>\n    <g id=\"ytick_9\">\n     <g id=\"text_16\">\n      <!-- 1.00 -->\n      <g style=\"fill: #262626\" transform=\"translate(26.185938 14.357812) scale(0.1 -0.1)\">\n       <use xlink:href=\"#ArialMT-31\"/>\n       <use xlink:href=\"#ArialMT-2e\" x=\"55.615234\"/>\n       <use xlink:href=\"#ArialMT-30\" x=\"83.398438\"/>\n       <use xlink:href=\"#ArialMT-30\" x=\"139.013672\"/>\n      </g>\n     </g>\n    </g>\n    <g id=\"text_17\">\n     <!-- $\\epsilon$ -->\n     <g style=\"fill: #262626\" transform=\"translate(14.357813 146.584906) rotate(-90) scale(0.1 -0.1)\">\n      <defs>\n       <path id=\"DejaVuSans-Oblique-3b5\" d=\"M 1263 1888 \nQ 925 1963 778 2166 \nQ 669 2309 669 2503 \nQ 669 3034 1175 3344 \nQ 1575 3588 2188 3588 \nQ 2425 3588 2684 3550 \nQ 2944 3513 3234 3438 \nL 3134 2916 \nQ 2847 3006 2606 3047 \nQ 2359 3088 2138 3088 \nQ 1766 3088 1522 2944 \nQ 1228 2772 1228 2522 \nQ 1228 2356 1381 2241 \nQ 1563 2103 1925 2103 \nL 2409 2103 \nL 2319 1628 \nL 1856 1628 \nQ 1425 1628 1172 1469 \nQ 828 1253 828 916 \nQ 828 703 1013 563 \nQ 1244 388 1716 388 \nQ 2006 388 2284 444 \nQ 2563 503 2806 619 \nL 2700 84 \nQ 2403 -3 2131 -47 \nQ 1859 -91 1609 -91 \nQ 866 -91 516 194 \nQ 250 413 250 781 \nQ 250 1278 600 1584 \nQ 859 1813 1263 1888 \nz\n\" transform=\"scale(0.015625)\"/>\n      </defs>\n      <use xlink:href=\"#DejaVuSans-Oblique-3b5\" transform=\"translate(0 0.9375)\"/>\n     </g>\n    </g>\n   </g>\n   <g id=\"line2d_1\">\n    <path d=\"M 191.313023 -1 \nL 194.037243 107.909662 \nL 199.867771 217.338926 \nL 205.698299 263.090123 \nL 211.528827 276.467689 \nL 217.359354 273.935875 \nL 223.189882 264.159553 \nL 229.020427 251.65701 \nL 234.850955 238.726683 \nL 240.681483 226.476957 \nL 246.512028 215.382694 \nL 252.342555 205.587675 \nL 258.173083 197.069227 \nL 264.003611 189.727401 \nL 269.834139 183.432654 \nL 275.664667 178.050609 \nL 281.495195 173.454105 \nL 287.325722 169.528492 \nL 293.156267 166.173251 \nL 298.986795 163.301763 \nL 304.817323 160.8401 \nL 310.647868 158.725646 \nL 316.478396 156.905576 \nL 322.308923 155.335399 \nL 328.139451 153.977673 \nL 333.969979 152.800906 \nL 339.800507 151.778582 \nL 345.631035 150.888349 \nL 351.461563 150.111344 \nL 357.29209 149.431615 \nL 363.122618 148.835644 \nL 368.95318 148.311959 \nL 374.783708 147.850802 \nL 380.614236 147.443853 \nL 386.444764 147.083998 \nL 392.275292 146.765154 \nL 398.105819 146.482092 \nL 403.936347 146.230321 \nL 409.766875 146.005967 \n\" clip-path=\"url(#pb7d307be62)\" style=\"fill: none; stroke: #1f77b4; stroke-width: 1.5; stroke-linecap: round\"/>\n   </g>\n   <g id=\"patch_3\">\n    <path d=\"M 52.646875 276.890906 \nL 52.646875 10.778906 \n\" style=\"fill: none; stroke: #262626; stroke-width: 0.8; stroke-linejoin: miter; stroke-linecap: square\"/>\n   </g>\n   <g id=\"patch_4\">\n    <path d=\"M 409.766875 276.890906 \nL 409.766875 10.778906 \n\" style=\"fill: none; stroke: #262626; stroke-width: 0.8; stroke-linejoin: miter; stroke-linecap: square\"/>\n   </g>\n   <g id=\"patch_5\">\n    <path d=\"M 52.646875 276.890906 \nL 409.766875 276.890906 \n\" style=\"fill: none; stroke: #262626; stroke-width: 0.8; stroke-linejoin: miter; stroke-linecap: square\"/>\n   </g>\n   <g id=\"patch_6\">\n    <path d=\"M 52.646875 10.778906 \nL 409.766875 10.778906 \n\" style=\"fill: none; stroke: #262626; stroke-width: 0.8; stroke-linejoin: miter; stroke-linecap: square\"/>\n   </g>\n  </g>\n </g>\n <defs>\n  <clipPath id=\"pb7d307be62\">\n   <rect x=\"52.646875\" y=\"10.778906\" width=\"357.12\" height=\"266.112\"/>\n  </clipPath>\n </defs>\n</svg>\n",
      "application/pdf": "[encoded data removed]"
     },
     "metadata": {},
     "output_type": "display_data"
    }
   ]
  },
  {
   "cell_type": "code",
   "source": [
    "sand_energy = energy.lennard_jones_pair(displacement_fn)\n",
    "\n",
    "sand_energy(positions)"
   ],
   "metadata": {
    "id": "jlssetnHTgv7"
   },
   "execution_count": 36,
   "outputs": [
    {
     "data": {
      "text/plain": "tensor(-4977.0781)"
     },
     "execution_count": 36,
     "metadata": {},
     "output_type": "execute_result"
    }
   ]
  },
  {
   "cell_type": "markdown",
   "source": [
    "## Simulate"
   ],
   "metadata": {
    "id": "NZuAjcdvdB0O"
   }
  },
  {
   "cell_type": "code",
   "source": [
    "from jax import random\n",
    "\n",
    "simulation_steps = 10000\n",
    "write_every = 50\n",
    "key = random.PRNGKey(1)"
   ],
   "metadata": {
    "id": "p-pdHb6umh9v"
   },
   "execution_count": 44,
   "outputs": []
  },
  {
   "cell_type": "code",
   "source": [
    "from jax_md import simulate\n",
    "from jax import jit\n",
    "\n",
    "init_fn, step_fn = simulate.nvt_langevin(sand_energy, shift_fn, dt=5e-3, kT=0.0, gamma=1e-2)\n",
    "\n",
    "sand = init_fn(key, positions)\n",
    "step_fn = jit(step_fn)"
   ],
   "metadata": {
    "id": "wvygEvsyUAxQ"
   },
   "execution_count": 45,
   "outputs": []
  },
  {
   "cell_type": "code",
   "source": [
    "trajectory = []\n",
    "\n",
    "for i in range(simulation_steps):\n",
    "  if i % write_every == 0:\n",
    "    trajectory += [sand.position]\n",
    "\n",
    "  sand = step_fn(sand)\n",
    "\n",
    "trajectory = jnp.stack(trajectory)"
   ],
   "metadata": {
    "id": "fznTbnY8UN17"
   },
   "execution_count": 46,
   "outputs": []
  },
  {
   "cell_type": "code",
   "source": [
    "renderer.render(box, renderer.Disk(trajectory, color=colors))"
   ],
   "metadata": {
    "id": "VDVSoyliUaPx"
   },
   "execution_count": 47,
   "outputs": []
  },
  {
   "cell_type": "markdown",
   "source": [
    "## Simulate slightly faster..."
   ],
   "metadata": {
    "id": "pFK2ESJ2dbu3"
   }
  },
  {
   "cell_type": "code",
   "source": [
    "from jax import lax\n",
    "\n",
    "def simulation_fn(i, sand_trajectory):\n",
    "  sand, trajectory = sand_trajectory\n",
    "\n",
    "  trajectory = trajectory.at[i].set(sand.position)\n",
    "  sand = lax.fori_loop(0, write_every, lambda _, s: step_fn(s), sand)\n",
    "\n",
    "  return sand, trajectory"
   ],
   "metadata": {
    "id": "pd1vEEOeaTAX"
   },
   "execution_count": 56,
   "outputs": []
  },
  {
   "cell_type": "code",
   "source": [
    "write_steps = simulation_steps // write_every\n",
    "n = positions.shape[0]\n",
    "\n",
    "sand = init_fn(random.PRNGKey(0), positions)\n",
    "trajectory = jnp.zeros((write_steps, n, 2))\n",
    "sand, trajectory = lax.fori_loop(0, write_steps, simulation_fn, (sand, trajectory))"
   ],
   "metadata": {
    "id": "vPzFJe5ddzTk"
   },
   "execution_count": 57,
   "outputs": []
  },
  {
   "cell_type": "code",
   "source": [
    "renderer.render(box, renderer.Disk(trajectory, color=colors))"
   ],
   "metadata": {
    "id": "Gc8faIOTb3-2"
   },
   "execution_count": 58,
   "outputs": []
  },
  {
   "cell_type": "markdown",
   "source": [
    "## Let's blow it up!"
   ],
   "metadata": {
    "id": "RD3GM0wdh46k"
   }
  },
  {
   "cell_type": "markdown",
   "source": [
    "### The projectile"
   ],
   "metadata": {
    "id": "ekE9sY0HBhzf"
   }
  },
  {
   "cell_type": "code",
   "source": [
    "projectile = jnp.array([1.0, box / 3.0])\n",
    "\n",
    "radius = jnp.array(2.0)\n",
    "strength = 1000.0\n",
    "velocity = jnp.array([3e-2, 0.0])"
   ],
   "metadata": {
    "id": "ZNllJqaAh9iS"
   },
   "execution_count": 59,
   "outputs": [
    {
     "data": {
      "text/plain": "Text(0, 0.5, '$\\\\epsilon$')"
     },
     "execution_count": 59,
     "metadata": {},
     "output_type": "execute_result"
    },
    {
     "data": {
      "text/plain": "<Figure size 640x480 with 1 Axes>",
      "image/svg+xml": "<?xml version=\"1.0\" encoding=\"utf-8\" standalone=\"no\"?>\n<!DOCTYPE svg PUBLIC \"-//W3C//DTD SVG 1.1//EN\"\n  \"http://www.w3.org/Graphics/SVG/1.1/DTD/svg11.dtd\">\n<svg xmlns:xlink=\"http://www.w3.org/1999/xlink\" width=\"409.737188pt\" height=\"313.381531pt\" viewBox=\"0 0 409.737188 313.381531\" xmlns=\"http://www.w3.org/2000/svg\" version=\"1.1\">\n <metadata>\n  <rdf:RDF xmlns:dc=\"http://purl.org/dc/elements/1.1/\" xmlns:cc=\"http://creativecommons.org/ns#\" xmlns:rdf=\"http://www.w3.org/1999/02/22-rdf-syntax-ns#\">\n   <cc:Work>\n    <dc:type rdf:resource=\"http://purl.org/dc/dcmitype/StillImage\"/>\n    <dc:date>2024-07-29T11:22:50.405157</dc:date>\n    <dc:format>image/svg+xml</dc:format>\n    <dc:creator>\n     <cc:Agent>\n      <dc:title>Matplotlib v3.8.3, https://matplotlib.org/</dc:title>\n     </cc:Agent>\n    </dc:creator>\n   </cc:Work>\n  </rdf:RDF>\n </metadata>\n <defs>\n  <style type=\"text/css\">*{stroke-linejoin: round; stroke-linecap: butt}</style>\n </defs>\n <g id=\"figure_1\">\n  <g id=\"patch_1\">\n   <path d=\"M 0 313.381531 \nL 409.737188 313.381531 \nL 409.737188 0 \nL 0 0 \nz\n\" style=\"fill: #ffffff\"/>\n  </g>\n  <g id=\"axes_1\">\n   <g id=\"patch_2\">\n    <path d=\"M 38.467188 276.890906 \nL 395.587188 276.890906 \nL 395.587188 10.778906 \nL 38.467188 10.778906 \nz\n\" style=\"fill: #ffffff\"/>\n   </g>\n   <g id=\"matplotlib.axis_1\">\n    <g id=\"xtick_1\">\n     <g id=\"text_1\">\n      <!-- 0.0 -->\n      <g style=\"fill: #262626\" transform=\"translate(31.517188 291.048719) scale(0.1 -0.1)\">\n       <defs>\n        <path id=\"ArialMT-30\" d=\"M 266 2259 \nQ 266 3072 433 3567 \nQ 600 4063 929 4331 \nQ 1259 4600 1759 4600 \nQ 2128 4600 2406 4451 \nQ 2684 4303 2865 4023 \nQ 3047 3744 3150 3342 \nQ 3253 2941 3253 2259 \nQ 3253 1453 3087 958 \nQ 2922 463 2592 192 \nQ 2263 -78 1759 -78 \nQ 1097 -78 719 397 \nQ 266 969 266 2259 \nz\nM 844 2259 \nQ 844 1131 1108 757 \nQ 1372 384 1759 384 \nQ 2147 384 2411 759 \nQ 2675 1134 2675 2259 \nQ 2675 3391 2411 3762 \nQ 2147 4134 1753 4134 \nQ 1366 4134 1134 3806 \nQ 844 3388 844 2259 \nz\n\" transform=\"scale(0.015625)\"/>\n        <path id=\"ArialMT-2e\" d=\"M 581 0 \nL 581 641 \nL 1222 641 \nL 1222 0 \nL 581 0 \nz\n\" transform=\"scale(0.015625)\"/>\n       </defs>\n       <use xlink:href=\"#ArialMT-30\"/>\n       <use xlink:href=\"#ArialMT-2e\" x=\"55.615234\"/>\n       <use xlink:href=\"#ArialMT-30\" x=\"83.398438\"/>\n      </g>\n     </g>\n    </g>\n    <g id=\"xtick_2\">\n     <g id=\"text_2\">\n      <!-- 0.5 -->\n      <g style=\"fill: #262626\" transform=\"translate(102.941188 291.048719) scale(0.1 -0.1)\">\n       <defs>\n        <path id=\"ArialMT-35\" d=\"M 266 1200 \nL 856 1250 \nQ 922 819 1161 601 \nQ 1400 384 1738 384 \nQ 2144 384 2425 690 \nQ 2706 997 2706 1503 \nQ 2706 1984 2436 2262 \nQ 2166 2541 1728 2541 \nQ 1456 2541 1237 2417 \nQ 1019 2294 894 2097 \nL 366 2166 \nL 809 4519 \nL 3088 4519 \nL 3088 3981 \nL 1259 3981 \nL 1013 2750 \nQ 1425 3038 1878 3038 \nQ 2478 3038 2890 2622 \nQ 3303 2206 3303 1553 \nQ 3303 931 2941 478 \nQ 2500 -78 1738 -78 \nQ 1113 -78 717 272 \nQ 322 622 266 1200 \nz\n\" transform=\"scale(0.015625)\"/>\n       </defs>\n       <use xlink:href=\"#ArialMT-30\"/>\n       <use xlink:href=\"#ArialMT-2e\" x=\"55.615234\"/>\n       <use xlink:href=\"#ArialMT-35\" x=\"83.398438\"/>\n      </g>\n     </g>\n    </g>\n    <g id=\"xtick_3\">\n     <g id=\"text_3\">\n      <!-- 1.0 -->\n      <g style=\"fill: #262626\" transform=\"translate(174.365188 291.048719) scale(0.1 -0.1)\">\n       <defs>\n        <path id=\"ArialMT-31\" d=\"M 2384 0 \nL 1822 0 \nL 1822 3584 \nQ 1619 3391 1289 3197 \nQ 959 3003 697 2906 \nL 697 3450 \nQ 1169 3672 1522 3987 \nQ 1875 4303 2022 4600 \nL 2384 4600 \nL 2384 0 \nz\n\" transform=\"scale(0.015625)\"/>\n       </defs>\n       <use xlink:href=\"#ArialMT-31\"/>\n       <use xlink:href=\"#ArialMT-2e\" x=\"55.615234\"/>\n       <use xlink:href=\"#ArialMT-30\" x=\"83.398438\"/>\n      </g>\n     </g>\n    </g>\n    <g id=\"xtick_4\">\n     <g id=\"text_4\">\n      <!-- 1.5 -->\n      <g style=\"fill: #262626\" transform=\"translate(245.789188 291.048719) scale(0.1 -0.1)\">\n       <use xlink:href=\"#ArialMT-31\"/>\n       <use xlink:href=\"#ArialMT-2e\" x=\"55.615234\"/>\n       <use xlink:href=\"#ArialMT-35\" x=\"83.398438\"/>\n      </g>\n     </g>\n    </g>\n    <g id=\"xtick_5\">\n     <g id=\"text_5\">\n      <!-- 2.0 -->\n      <g style=\"fill: #262626\" transform=\"translate(317.213188 291.048719) scale(0.1 -0.1)\">\n       <defs>\n        <path id=\"ArialMT-32\" d=\"M 3222 541 \nL 3222 0 \nL 194 0 \nQ 188 203 259 391 \nQ 375 700 629 1000 \nQ 884 1300 1366 1694 \nQ 2113 2306 2375 2664 \nQ 2638 3022 2638 3341 \nQ 2638 3675 2398 3904 \nQ 2159 4134 1775 4134 \nQ 1369 4134 1125 3890 \nQ 881 3647 878 3216 \nL 300 3275 \nQ 359 3922 746 4261 \nQ 1134 4600 1788 4600 \nQ 2447 4600 2831 4234 \nQ 3216 3869 3216 3328 \nQ 3216 3053 3103 2787 \nQ 2991 2522 2730 2228 \nQ 2469 1934 1863 1422 \nQ 1356 997 1212 845 \nQ 1069 694 975 541 \nL 3222 541 \nz\n\" transform=\"scale(0.015625)\"/>\n       </defs>\n       <use xlink:href=\"#ArialMT-32\"/>\n       <use xlink:href=\"#ArialMT-2e\" x=\"55.615234\"/>\n       <use xlink:href=\"#ArialMT-30\" x=\"83.398438\"/>\n      </g>\n     </g>\n    </g>\n    <g id=\"xtick_6\">\n     <g id=\"text_6\">\n      <!-- 2.5 -->\n      <g style=\"fill: #262626\" transform=\"translate(388.637188 291.048719) scale(0.1 -0.1)\">\n       <use xlink:href=\"#ArialMT-32\"/>\n       <use xlink:href=\"#ArialMT-2e\" x=\"55.615234\"/>\n       <use xlink:href=\"#ArialMT-35\" x=\"83.398438\"/>\n      </g>\n     </g>\n    </g>\n    <g id=\"text_7\">\n     <!-- $r_{ij}$ -->\n     <g style=\"fill: #262626\" transform=\"translate(212.877188 303.081531) scale(0.1 -0.1)\">\n      <defs>\n       <path id=\"DejaVuSans-Oblique-72\" d=\"M 2853 2969 \nQ 2766 3016 2653 3041 \nQ 2541 3066 2413 3066 \nQ 1953 3066 1609 2717 \nQ 1266 2369 1153 1784 \nL 800 0 \nL 225 0 \nL 909 3500 \nL 1484 3500 \nL 1375 2956 \nQ 1603 3259 1920 3421 \nQ 2238 3584 2597 3584 \nQ 2691 3584 2781 3573 \nQ 2872 3563 2963 3538 \nL 2853 2969 \nz\n\" transform=\"scale(0.015625)\"/>\n       <path id=\"DejaVuSans-Oblique-69\" d=\"M 1172 4863 \nL 1747 4863 \nL 1606 4134 \nL 1031 4134 \nL 1172 4863 \nz\nM 909 3500 \nL 1484 3500 \nL 800 0 \nL 225 0 \nL 909 3500 \nz\n\" transform=\"scale(0.015625)\"/>\n       <path id=\"DejaVuSans-Oblique-6a\" d=\"M 928 3500 \nL 1503 3500 \nL 813 -63 \nL 809 -78 \nQ 694 -675 544 -897 \nQ 403 -1106 132 -1218 \nQ -138 -1331 -506 -1331 \nL -722 -1331 \nL -628 -844 \nL -481 -844 \nQ -144 -844 -1 -703 \nQ 141 -563 238 -63 \nL 928 3500 \nz\nM 1197 4863 \nL 1772 4863 \nL 1631 4134 \nL 1056 4134 \nL 1197 4863 \nz\n\" transform=\"scale(0.015625)\"/>\n      </defs>\n      <use xlink:href=\"#DejaVuSans-Oblique-72\"/>\n      <use xlink:href=\"#DejaVuSans-Oblique-69\" transform=\"translate(41.113281 -16.40625) scale(0.7)\"/>\n      <use xlink:href=\"#DejaVuSans-Oblique-6a\" transform=\"translate(60.561523 -16.40625) scale(0.7)\"/>\n     </g>\n    </g>\n   </g>\n   <g id=\"matplotlib.axis_2\">\n    <g id=\"ytick_1\">\n     <g id=\"text_8\">\n      <!-- 0 -->\n      <g style=\"fill: #262626\" transform=\"translate(25.90625 256.277812) scale(0.1 -0.1)\">\n       <use xlink:href=\"#ArialMT-30\"/>\n      </g>\n     </g>\n    </g>\n    <g id=\"ytick_2\">\n     <g id=\"text_9\">\n      <!-- 2 -->\n      <g style=\"fill: #262626\" transform=\"translate(25.90625 207.893812) scale(0.1 -0.1)\">\n       <use xlink:href=\"#ArialMT-32\"/>\n      </g>\n     </g>\n    </g>\n    <g id=\"ytick_3\">\n     <g id=\"text_10\">\n      <!-- 4 -->\n      <g style=\"fill: #262626\" transform=\"translate(25.90625 159.509812) scale(0.1 -0.1)\">\n       <defs>\n        <path id=\"ArialMT-34\" d=\"M 2069 0 \nL 2069 1097 \nL 81 1097 \nL 81 1613 \nL 2172 4581 \nL 2631 4581 \nL 2631 1613 \nL 3250 1613 \nL 3250 1097 \nL 2631 1097 \nL 2631 0 \nL 2069 0 \nz\nM 2069 1613 \nL 2069 3678 \nL 634 1613 \nL 2069 1613 \nz\n\" transform=\"scale(0.015625)\"/>\n       </defs>\n       <use xlink:href=\"#ArialMT-34\"/>\n      </g>\n     </g>\n    </g>\n    <g id=\"ytick_4\">\n     <g id=\"text_11\">\n      <!-- 6 -->\n      <g style=\"fill: #262626\" transform=\"translate(25.90625 111.125812) scale(0.1 -0.1)\">\n       <defs>\n        <path id=\"ArialMT-36\" d=\"M 3184 3459 \nL 2625 3416 \nQ 2550 3747 2413 3897 \nQ 2184 4138 1850 4138 \nQ 1581 4138 1378 3988 \nQ 1113 3794 959 3422 \nQ 806 3050 800 2363 \nQ 1003 2672 1297 2822 \nQ 1591 2972 1913 2972 \nQ 2475 2972 2870 2558 \nQ 3266 2144 3266 1488 \nQ 3266 1056 3080 686 \nQ 2894 316 2569 119 \nQ 2244 -78 1831 -78 \nQ 1128 -78 684 439 \nQ 241 956 241 2144 \nQ 241 3472 731 4075 \nQ 1159 4600 1884 4600 \nQ 2425 4600 2770 4297 \nQ 3116 3994 3184 3459 \nz\nM 888 1484 \nQ 888 1194 1011 928 \nQ 1134 663 1356 523 \nQ 1578 384 1822 384 \nQ 2178 384 2434 671 \nQ 2691 959 2691 1453 \nQ 2691 1928 2437 2201 \nQ 2184 2475 1800 2475 \nQ 1419 2475 1153 2201 \nQ 888 1928 888 1484 \nz\n\" transform=\"scale(0.015625)\"/>\n       </defs>\n       <use xlink:href=\"#ArialMT-36\"/>\n      </g>\n     </g>\n    </g>\n    <g id=\"ytick_5\">\n     <g id=\"text_12\">\n      <!-- 8 -->\n      <g style=\"fill: #262626\" transform=\"translate(25.90625 62.741812) scale(0.1 -0.1)\">\n       <defs>\n        <path id=\"ArialMT-38\" d=\"M 1131 2484 \nQ 781 2613 612 2850 \nQ 444 3088 444 3419 \nQ 444 3919 803 4259 \nQ 1163 4600 1759 4600 \nQ 2359 4600 2725 4251 \nQ 3091 3903 3091 3403 \nQ 3091 3084 2923 2848 \nQ 2756 2613 2416 2484 \nQ 2838 2347 3058 2040 \nQ 3278 1734 3278 1309 \nQ 3278 722 2862 322 \nQ 2447 -78 1769 -78 \nQ 1091 -78 675 323 \nQ 259 725 259 1325 \nQ 259 1772 486 2073 \nQ 713 2375 1131 2484 \nz\nM 1019 3438 \nQ 1019 3113 1228 2906 \nQ 1438 2700 1772 2700 \nQ 2097 2700 2305 2904 \nQ 2513 3109 2513 3406 \nQ 2513 3716 2298 3927 \nQ 2084 4138 1766 4138 \nQ 1444 4138 1231 3931 \nQ 1019 3725 1019 3438 \nz\nM 838 1322 \nQ 838 1081 952 856 \nQ 1066 631 1291 507 \nQ 1516 384 1775 384 \nQ 2178 384 2440 643 \nQ 2703 903 2703 1303 \nQ 2703 1709 2433 1975 \nQ 2163 2241 1756 2241 \nQ 1359 2241 1098 1978 \nQ 838 1716 838 1322 \nz\n\" transform=\"scale(0.015625)\"/>\n       </defs>\n       <use xlink:href=\"#ArialMT-38\"/>\n      </g>\n     </g>\n    </g>\n    <g id=\"ytick_6\">\n     <g id=\"text_13\">\n      <!-- 10 -->\n      <g style=\"fill: #262626\" transform=\"translate(20.345313 14.357812) scale(0.1 -0.1)\">\n       <use xlink:href=\"#ArialMT-31\"/>\n       <use xlink:href=\"#ArialMT-30\" x=\"55.615234\"/>\n      </g>\n     </g>\n    </g>\n    <g id=\"text_14\">\n     <!-- $\\epsilon$ -->\n     <g style=\"fill: #262626\" transform=\"translate(14.357813 146.584906) rotate(-90) scale(0.1 -0.1)\">\n      <defs>\n       <path id=\"DejaVuSans-Oblique-3b5\" d=\"M 1263 1888 \nQ 925 1963 778 2166 \nQ 669 2309 669 2503 \nQ 669 3034 1175 3344 \nQ 1575 3588 2188 3588 \nQ 2425 3588 2684 3550 \nQ 2944 3513 3234 3438 \nL 3134 2916 \nQ 2847 3006 2606 3047 \nQ 2359 3088 2138 3088 \nQ 1766 3088 1522 2944 \nQ 1228 2772 1228 2522 \nQ 1228 2356 1381 2241 \nQ 1563 2103 1925 2103 \nL 2409 2103 \nL 2319 1628 \nL 1856 1628 \nQ 1425 1628 1172 1469 \nQ 828 1253 828 916 \nQ 828 703 1013 563 \nQ 1244 388 1716 388 \nQ 2006 388 2284 444 \nQ 2563 503 2806 619 \nL 2700 84 \nQ 2403 -3 2131 -47 \nQ 1859 -91 1609 -91 \nQ 866 -91 516 194 \nQ 250 413 250 781 \nQ 250 1278 600 1584 \nQ 859 1813 1263 1888 \nz\n\" transform=\"scale(0.015625)\"/>\n      </defs>\n      <use xlink:href=\"#DejaVuSans-Oblique-3b5\" transform=\"translate(0 0.9375)\"/>\n     </g>\n    </g>\n   </g>\n   <g id=\"line2d_1\">\n    <path d=\"M 164.162067 -1 \nL 168.196491 117.739733 \nL 174.027028 203.786216 \nL 179.857556 246.167044 \nL 185.688083 266.063273 \nL 191.518611 274.381673 \nL 197.349139 276.813958 \nL 203.179667 276.353628 \nL 209.010195 274.576115 \nL 214.84074 272.302925 \nL 220.671267 269.951957 \nL 226.501795 267.724734 \nL 232.33234 265.707595 \nL 238.162868 263.926682 \nL 243.993396 262.377874 \nL 249.823924 261.042996 \nL 255.654451 259.898497 \nL 261.484979 258.919943 \nL 267.315507 258.084215 \nL 273.146035 257.370467 \nL 278.97658 256.760424 \nL 284.807108 256.238335 \nL 290.637635 255.79076 \nL 296.46818 255.406314 \nL 302.298708 255.075392 \nL 308.129236 254.789905 \nL 313.959764 254.543046 \nL 319.790292 254.329088 \nL 325.620819 254.143211 \nL 331.451347 253.98135 \nL 337.281875 253.840077 \nL 343.112403 253.71649 \nL 348.942931 253.608131 \nL 354.773493 253.512916 \nL 360.604021 253.429069 \nL 366.434548 253.355078 \nL 372.265076 253.28965 \nL 378.095604 253.231679 \nL 383.926132 253.180213 \nL 389.75666 253.134436 \nL 395.587188 253.093645 \n\" clip-path=\"url(#p59dbece989)\" style=\"fill: none; stroke: #1f77b4; stroke-width: 1.5; stroke-linecap: round\"/>\n   </g>\n   <g id=\"line2d_2\">\n    <path d=\"M 160.790154 -1 \nL 162.365964 39.8476 \nL 168.196491 150.68138 \nL 174.027028 221.212056 \nL 179.857556 251.439432 \nL 185.688083 252.698906 \nL 191.518611 252.698906 \nL 197.349139 252.698906 \nL 203.179667 252.698906 \nL 209.010195 252.698906 \nL 214.84074 252.698906 \nL 220.671267 252.698906 \nL 226.501795 252.698906 \nL 232.33234 252.698906 \nL 238.162868 252.698906 \nL 243.993396 252.698906 \nL 249.823924 252.698906 \nL 255.654451 252.698906 \nL 261.484979 252.698906 \nL 267.315507 252.698906 \nL 273.146035 252.698906 \nL 278.97658 252.698906 \nL 284.807108 252.698906 \nL 290.637635 252.698906 \nL 296.46818 252.698906 \nL 302.298708 252.698906 \nL 308.129236 252.698906 \nL 313.959764 252.698906 \nL 319.790292 252.698906 \nL 325.620819 252.698906 \nL 331.451347 252.698906 \nL 337.281875 252.698906 \nL 343.112403 252.698906 \nL 348.942931 252.698906 \nL 354.773493 252.698906 \nL 360.604021 252.698906 \nL 366.434548 252.698906 \nL 372.265076 252.698906 \nL 378.095604 252.698906 \nL 383.926132 252.698906 \nL 389.75666 252.698906 \nL 395.587188 252.698906 \n\" clip-path=\"url(#p59dbece989)\" style=\"fill: none; stroke: #ff7f0e; stroke-width: 1.5; stroke-linecap: round\"/>\n   </g>\n   <g id=\"patch_3\">\n    <path d=\"M 38.467188 276.890906 \nL 38.467188 10.778906 \n\" style=\"fill: none; stroke: #262626; stroke-width: 0.8; stroke-linejoin: miter; stroke-linecap: square\"/>\n   </g>\n   <g id=\"patch_4\">\n    <path d=\"M 395.587188 276.890906 \nL 395.587188 10.778906 \n\" style=\"fill: none; stroke: #262626; stroke-width: 0.8; stroke-linejoin: miter; stroke-linecap: square\"/>\n   </g>\n   <g id=\"patch_5\">\n    <path d=\"M 38.467188 276.890906 \nL 395.587188 276.890906 \n\" style=\"fill: none; stroke: #262626; stroke-width: 0.8; stroke-linejoin: miter; stroke-linecap: square\"/>\n   </g>\n   <g id=\"patch_6\">\n    <path d=\"M 38.467188 10.778906 \nL 395.587188 10.778906 \n\" style=\"fill: none; stroke: #262626; stroke-width: 0.8; stroke-linejoin: miter; stroke-linecap: square\"/>\n   </g>\n  </g>\n </g>\n <defs>\n  <clipPath id=\"p59dbece989\">\n   <rect x=\"38.467188\" y=\"10.778906\" width=\"357.12\" height=\"266.112\"/>\n  </clipPath>\n </defs>\n</svg>\n",
      "application/pdf": "[encoded data removed]"
     },
     "metadata": {},
     "output_type": "display_data"
    }
   ]
  },
  {
   "cell_type": "markdown",
   "source": [
    "Model the projectile by adding a term to the energy,\n",
    "\n",
    "$$E = \\sum_{i,j}\\epsilon(r_{ij}) + \\sum_i \\epsilon_p(r_{ip})$$\n",
    "\n",
    "where $r_{ip}$ is the distance between grain $i$ and the projectile."
   ],
   "metadata": {
    "id": "BLZrybcvk16A"
   }
  },
  {
   "cell_type": "markdown",
   "source": [
    "Want the projectile to only repel the sand (no attraction)."
   ],
   "metadata": {
    "id": "l1drK7S3BDy7"
   }
  },
  {
   "cell_type": "code",
   "source": [
    "from jax_md import energy\n",
    "\n",
    "rs = jnp.linspace(0.5, 2.5)\n",
    "plt.plot(rs, energy.lennard_jones(rs))\n",
    "plt.plot(rs, energy.soft_sphere(rs, epsilon=strength))\n",
    "\n",
    "plt.ylim([-1, 10])\n",
    "plt.xlim([0, 2.5])\n",
    "plt.xlabel('$r_{ij}$')\n",
    "plt.ylabel('$\\\\epsilon$')"
   ],
   "metadata": {
    "id": "oaVEccBtA0Ve"
   },
   "execution_count": 88,
   "outputs": []
  },
  {
   "cell_type": "code",
   "source": [
    "def projectile_energy(sand, projectile):\n",
    "  distance = jnp.linalg.norm(sand - projectile, axis=-1)\n",
    "  e = energy.soft_sphere(distance, sigma=radius + 1.0, epsilon=strength)\n",
    "  return jnp.sum(e)\n",
    "\n",
    "def total_energy(sand, projectile, **kwargs):\n",
    "  return sand_energy(sand) + projectile_energy(sand, projectile)"
   ],
   "metadata": {
    "id": "Cl1rAhH4l7xT"
   },
   "execution_count": 89,
   "outputs": []
  },
  {
   "cell_type": "markdown",
   "source": [
    "### Run the simulation"
   ],
   "metadata": {
    "id": "CEXR9LPgBgzb"
   }
  },
  {
   "cell_type": "code",
   "source": [
    "from jax_md import dataclasses\n",
    "\n",
    "@dataclasses.dataclass\n",
    "class SandCastle:\n",
    "  sand: simulate.NVTLangevinState\n",
    "  projectile: jnp.ndarray"
   ],
   "metadata": {
    "id": "WHdVe6RxBnPm"
   },
   "execution_count": 90,
   "outputs": []
  },
  {
   "cell_type": "code",
   "source": [
    "simulation_steps = 10000\n",
    "write_every = 50\n",
    "write_steps = simulation_steps // write_every"
   ],
   "metadata": {
    "id": "Ot1C1QSInSCs"
   },
   "execution_count": 91,
   "outputs": [
    {
     "ename": "TypeError",
     "evalue": "total_energy() missing 1 required positional argument: 'neighbor'",
     "output_type": "error",
     "traceback": [
      "\u001B[0;31m---------------------------------------------------------------------------\u001B[0m",
      "\u001B[0;31mTypeError\u001B[0m                                 Traceback (most recent call last)",
      "Cell \u001B[0;32mIn[91], line 4\u001B[0m\n\u001B[1;32m      1\u001B[0m n \u001B[38;5;241m=\u001B[39m positions\u001B[38;5;241m.\u001B[39mshape[\u001B[38;5;241m0\u001B[39m]\n\u001B[1;32m      3\u001B[0m state \u001B[38;5;241m=\u001B[39m SandCastle(\n\u001B[0;32m----> 4\u001B[0m     \u001B[43msetup_fn\u001B[49m\u001B[43m(\u001B[49m\u001B[43mpositions\u001B[49m\u001B[43m,\u001B[49m\u001B[43m \u001B[49m\u001B[43mprojectile\u001B[49m\u001B[38;5;241;43m=\u001B[39;49m\u001B[43mprojectile\u001B[49m\u001B[43m,\u001B[49m\u001B[43m \u001B[49m\u001B[43mtemperature\u001B[49m\u001B[38;5;241;43m=\u001B[39;49m\u001B[38;5;241;43m0.0\u001B[39;49m\u001B[43m)\u001B[49m,\n\u001B[1;32m      5\u001B[0m     projectile\n\u001B[1;32m      6\u001B[0m )\n\u001B[1;32m      7\u001B[0m trajectory \u001B[38;5;241m=\u001B[39m SandCastle(\n\u001B[1;32m      8\u001B[0m     torch\u001B[38;5;241m.\u001B[39mzeros((write_steps, n, \u001B[38;5;241m2\u001B[39m)),\n\u001B[1;32m      9\u001B[0m     torch\u001B[38;5;241m.\u001B[39mzeros((write_steps, \u001B[38;5;241m2\u001B[39m))\n\u001B[1;32m     10\u001B[0m )\n\u001B[1;32m     12\u001B[0m \u001B[38;5;28;01mfor\u001B[39;00m i \u001B[38;5;129;01min\u001B[39;00m \u001B[38;5;28mrange\u001B[39m(write_steps):\n",
      "File \u001B[0;32m~/com/github/Genentech/beignet/src/beignet/func/_simulate.py:1391\u001B[0m, in \u001B[0;36mensemble.<locals>.setup_fn\u001B[0;34m(positions, masses, **kwargs)\u001B[0m\n\u001B[1;32m   1382\u001B[0m \u001B[38;5;28;01mif\u001B[39;00m masses \u001B[38;5;129;01mis\u001B[39;00m \u001B[38;5;28;01mNone\u001B[39;00m:\n\u001B[1;32m   1383\u001B[0m     masses \u001B[38;5;241m=\u001B[39m torch\u001B[38;5;241m.\u001B[39mtensor(\n\u001B[1;32m   1384\u001B[0m         \u001B[38;5;241m1.0\u001B[39m,\n\u001B[1;32m   1385\u001B[0m         dtype\u001B[38;5;241m=\u001B[39mpositions\u001B[38;5;241m.\u001B[39mdtype,\n\u001B[1;32m   1386\u001B[0m     )\n\u001B[1;32m   1388\u001B[0m \u001B[38;5;28;01mreturn\u001B[39;00m _setup_momentum(\n\u001B[1;32m   1389\u001B[0m     _canonicalize_masses(\n\u001B[1;32m   1390\u001B[0m         _NVTLangevinThermostatState(\n\u001B[0;32m-> 1391\u001B[0m             forces\u001B[38;5;241m=\u001B[39m\u001B[43mforce_fn\u001B[49m\u001B[43m(\u001B[49m\u001B[43mpositions\u001B[49m\u001B[43m,\u001B[49m\u001B[43m \u001B[49m\u001B[38;5;241;43m*\u001B[39;49m\u001B[38;5;241;43m*\u001B[39;49m\u001B[43mkwargs\u001B[49m\u001B[43m)\u001B[49m,\n\u001B[1;32m   1392\u001B[0m             masses\u001B[38;5;241m=\u001B[39mmasses,\n\u001B[1;32m   1393\u001B[0m             momentums\u001B[38;5;241m=\u001B[39m\u001B[38;5;28;01mNone\u001B[39;00m,\n\u001B[1;32m   1394\u001B[0m             positions\u001B[38;5;241m=\u001B[39mpositions,\n\u001B[1;32m   1395\u001B[0m         )\n\u001B[1;32m   1396\u001B[0m     ),\n\u001B[1;32m   1397\u001B[0m     kwargs\u001B[38;5;241m.\u001B[39mpop(\u001B[38;5;124m\"\u001B[39m\u001B[38;5;124mtemperature\u001B[39m\u001B[38;5;124m\"\u001B[39m, temperature),\n\u001B[1;32m   1398\u001B[0m )\n",
      "File \u001B[0;32m~/com/github/Genentech/beignet/src/beignet/func/_simulate.py:192\u001B[0m, in \u001B[0;36m_canonicalize_force_fn.<locals>._fn\u001B[0;34m(_positions, **kwargs)\u001B[0m\n\u001B[1;32m    189\u001B[0m \u001B[38;5;28;01mnonlocal\u001B[39;00m _force_fn\n\u001B[1;32m    191\u001B[0m \u001B[38;5;28;01mif\u001B[39;00m _force_fn \u001B[38;5;129;01mis\u001B[39;00m \u001B[38;5;28;01mNone\u001B[39;00m:\n\u001B[0;32m--> 192\u001B[0m     outputs \u001B[38;5;241m=\u001B[39m \u001B[43mfn\u001B[49m\u001B[43m(\u001B[49m\u001B[43m_positions\u001B[49m\u001B[43m,\u001B[49m\u001B[43m \u001B[49m\u001B[38;5;241;43m*\u001B[39;49m\u001B[38;5;241;43m*\u001B[39;49m\u001B[43mkwargs\u001B[49m\u001B[43m)\u001B[49m\n\u001B[1;32m    194\u001B[0m     \u001B[38;5;28;01mif\u001B[39;00m outputs\u001B[38;5;241m.\u001B[39mshape \u001B[38;5;241m==\u001B[39m ():\n\u001B[1;32m    195\u001B[0m         _force_fn \u001B[38;5;241m=\u001B[39m _force(fn)\n",
      "\u001B[0;31mTypeError\u001B[0m: total_energy() missing 1 required positional argument: 'neighbor'"
     ]
    }
   ]
  },
  {
   "cell_type": "code",
   "source": [
    "from jax_md import simulate\n",
    "\n",
    "init_fn, step_fn = simulate.nvt_langevin(total_energy, shift_fn, dt=5e-3, kT=0.0)"
   ],
   "metadata": {
    "id": "Lmczvx-7nSCu"
   },
   "execution_count": 71,
   "outputs": []
  },
  {
   "cell_type": "code",
   "source": [
    "from jax import lax\n",
    "\n",
    "def simulation_fn(i, state_trajectory):\n",
    "  state, traj = state_trajectory\n",
    "\n",
    "  traj = SandCastle(\n",
    "      traj.sand.at[i].set(state.sand.position),\n",
    "      traj.projectile.at[i].set(state.projectile)\n",
    "  )\n",
    "\n",
    "  def total_step_fn(_, state):\n",
    "    return SandCastle(\n",
    "        step_fn(state.sand, projectile=state.projectile),\n",
    "        state.projectile + velocity\n",
    "    )\n",
    "\n",
    "  state = lax.fori_loop(0, write_every, total_step_fn, state)\n",
    "\n",
    "  return state, traj"
   ],
   "metadata": {
    "id": "ekEPzywlqydL"
   },
   "execution_count": 72,
   "outputs": [
    {
     "ename": "SyntaxError",
     "evalue": "unterminated string literal (detected at line 3) (2448750232.py, line 3)",
     "output_type": "error",
     "traceback": [
      "\u001B[0;36m  Cell \u001B[0;32mIn[72], line 3\u001B[0;36m\u001B[0m\n\u001B[0;31m    But grains that are far apart don't affect each other.\u001B[0m\n\u001B[0m                                     ^\u001B[0m\n\u001B[0;31mSyntaxError\u001B[0m\u001B[0;31m:\u001B[0m unterminated string literal (detected at line 3)\n"
     ]
    }
   ]
  },
  {
   "cell_type": "code",
   "source": [
    "n = positions.shape[0]\n",
    "\n",
    "state = SandCastle(\n",
    "    init_fn(key, positions, projectile=projectile),\n",
    "    projectile\n",
    ")\n",
    "trajectory = SandCastle(\n",
    "    jnp.zeros((write_steps, n, 2)),\n",
    "    jnp.zeros((write_steps, 2))\n",
    ")\n",
    "\n",
    "state, trajectory = lax.fori_loop(0, write_steps, simulation_fn, (state, trajectory))"
   ],
   "metadata": {
    "id": "Q6ovE-BKq__5"
   },
   "execution_count": 74,
   "outputs": [
    {
     "name": "stderr",
     "output_type": "stream",
     "text": [
      "/var/folders/5z/n33pbk9s5vbby7s_v4vv64600000gp/T/ipykernel_13444/3437639023.py:20: DeprecationWarning: Starting with ImageIO v3 the behavior of this function will switch to that of iio.v3.imread. To keep the current behavior (and make this warning disappear) use `import imageio.v2 as imageio` or call `imageio.v2.imread` directly.\n",
      "  img = imageio.imread(filename)\n"
     ]
    }
   ]
  },
  {
   "cell_type": "code",
   "source": [
    "renderer.render(\n",
    "    box,\n",
    "    {\n",
    "        'sand': renderer.Disk(trajectory.sand, color=colors),\n",
    "        'projectile': renderer.Disk(trajectory.projectile[:, None, :],\n",
    "                                    diameter=radius * 2)\n",
    "    }\n",
    ")"
   ],
   "metadata": {
    "id": "weGWOIe5nSCw"
   },
   "execution_count": 75,
   "outputs": [
    {
     "data": {
      "text/plain": "25961"
     },
     "execution_count": 75,
     "metadata": {},
     "output_type": "execute_result"
    }
   ]
  },
  {
   "cell_type": "markdown",
   "source": [
    "## Scaling Up"
   ],
   "metadata": {
    "id": "bBdrHZWyxx8M"
   }
  },
  {
   "cell_type": "markdown",
   "source": [
    "So far at each step we have been computing the interaction between every pair of grains.\n",
    "\n",
    "But grains that are far apart don't affect each other."
   ],
   "metadata": {
    "id": "Zmws4uWnyo3w"
   }
  },
  {
   "cell_type": "code",
   "source": [
    "box, positions, colors = make_from_image('sand_castle.png', 6)"
   ],
   "metadata": {
    "id": "dzsliLymUwM4"
   },
   "execution_count": 76,
   "outputs": []
  },
  {
   "cell_type": "code",
   "source": [
    "len(positions)"
   ],
   "metadata": {
    "id": "fRQzUIb8cWa6"
   },
   "execution_count": 77,
   "outputs": [
    {
     "name": "stderr",
     "output_type": "stream",
     "text": [
      "/Users/isaacsoh/com/github/Genentech/beignet/src/beignet/func/_partition.py:1054: UserWarning: To copy construct from a tensor, it is recommended to use sourceTensor.clone().detach() or sourceTensor.clone().detach().requires_grad_(True), rather than torch.tensor(sourceTensor).\n",
      "  particle_index = torch.tensor(positions / unit_size, dtype=torch.int32)\n"
     ]
    },
    {
     "name": "stdout",
     "output_type": "stream",
     "text": [
      "cell_capacity: 15\n"
     ]
    }
   ]
  },
  {
   "cell_type": "code",
   "source": [
    "from jax_md.colab_tools import renderer\n",
    "\n",
    "renderer.render(box, renderer.Disk(positions, color=colors))"
   ],
   "metadata": {
    "id": "w8V3ZkMfWU22"
   },
   "execution_count": 83,
   "outputs": [
    {
     "data": {
      "text/plain": "torch.Size([2, 472671])"
     },
     "execution_count": 83,
     "metadata": {},
     "output_type": "execute_result"
    }
   ]
  },
  {
   "cell_type": "code",
   "source": [
    "displacement_fn, shift_fn = space.periodic(box)"
   ],
   "metadata": {
    "id": "wZqVC3Hfzh-z"
   },
   "execution_count": 84,
   "outputs": []
  },
  {
   "cell_type": "markdown",
   "source": [
    "### Neighbor lists"
   ],
   "metadata": {
    "id": "oVRhRyzTzPyo"
   }
  },
  {
   "cell_type": "code",
   "source": [
    "neighbor_fn, sand_energy = energy.lennard_jones_neighbor_list(displacement_fn, box)"
   ],
   "metadata": {
    "id": "8bDeqtG1ZptU"
   },
   "execution_count": null,
   "outputs": []
  },
  {
   "cell_type": "code",
   "source": [
    "nbrs = neighbor_fn.allocate(positions)"
   ],
   "metadata": {
    "id": "NdJNU_CQcb17"
   },
   "execution_count": 85,
   "outputs": []
  },
  {
   "cell_type": "code",
   "source": [
    "nbrs.idx.shape"
   ],
   "metadata": {
    "id": "7lOw_tbpzr2D"
   },
   "execution_count": 86,
   "outputs": []
  },
  {
   "cell_type": "code",
   "source": [
    "def total_energy(sand, projectile, neighbor, **kwargs):\n",
    "  return sand_energy(sand, neighbor) + projectile_energy(sand, projectile)"
   ],
   "metadata": {
    "id": "5fTveQ_uz_B3"
   },
   "execution_count": null,
   "outputs": []
  },
  {
   "cell_type": "markdown",
   "source": [
    "### Simulation"
   ],
   "metadata": {
    "id": "vnBzanAr0ASZ"
   }
  },
  {
   "cell_type": "code",
   "source": [
    "simulation_steps = 30000\n",
    "write_every = 400\n",
    "write_steps = simulation_steps // write_every\n",
    "\n",
    "projectile = jnp.array([1.0, box / 3.0])\n",
    "radius = jnp.array(8.0)"
   ],
   "metadata": {
    "id": "S4gCek-t1jO8"
   },
   "execution_count": null,
   "outputs": []
  },
  {
   "cell_type": "code",
   "source": [
    "from jax_md import partition\n",
    "\n",
    "@dataclasses.dataclass\n",
    "class SandCastle:\n",
    "  sand: simulate.NVTLangevinState\n",
    "  projectile: jnp.ndarray\n",
    "  neighbor: partition.NeighborList"
   ],
   "metadata": {
    "id": "grgoCgfTDvC2"
   },
   "execution_count": null,
   "outputs": []
  },
  {
   "cell_type": "code",
   "source": [
    "from jax_md import simulate\n",
    "\n",
    "init_fn, step_fn = simulate.nvt_langevin(total_energy, shift_fn, dt=5e-3, kT=0.0, gamma=1e-2)"
   ],
   "metadata": {
    "id": "9ZfyNC68z_B5"
   },
   "execution_count": null,
   "outputs": []
  },
  {
   "cell_type": "code",
   "source": [
    "from jax import lax\n",
    "\n",
    "def simulation_fn(i, state_trajectory):\n",
    "  state, traj = state_trajectory\n",
    "\n",
    "  traj = SandCastle(\n",
    "     traj.sand.at[i].set(state.sand.position),\n",
    "     traj.projectile.at[i].set(state.projectile),\n",
    "     None\n",
    "  )\n",
    "\n",
    "  def total_step_fn(_, state):\n",
    "    sand = step_fn(state.sand,\n",
    "                   projectile=state.projectile,\n",
    "                   neighbor=state.neighbor)\n",
    "    projectile = state.projectile + velocity\n",
    "    neighbor = state.neighbor.update(state.sand.position)\n",
    "    return SandCastle(sand, projectile, neighbor)\n",
    "\n",
    "  state = lax.fori_loop(0, write_every, total_step_fn, state)\n",
    "\n",
    "  return state, traj"
   ],
   "metadata": {
    "id": "hdlf9Zwsz_B6"
   },
   "execution_count": null,
   "outputs": []
  },
  {
   "cell_type": "code",
   "source": [
    "n = positions.shape[0]\n",
    "\n",
    "state = SandCastle(\n",
    "    init_fn(random.PRNGKey(0), positions, projectile=projectile, neighbor=nbrs),\n",
    "    projectile,\n",
    "    nbrs\n",
    ")\n",
    "trajectory = SandCastle(\n",
    "    jnp.zeros((write_steps, n, 2)),\n",
    "    jnp.zeros((write_steps, 2)),\n",
    "    None\n",
    ")\n",
    "\n",
    "state, trajectory = lax.fori_loop(0, write_steps, simulation_fn, (state, trajectory))"
   ],
   "metadata": {
    "id": "oVSV6Cqdz_B6"
   },
   "execution_count": null,
   "outputs": []
  },
  {
   "cell_type": "code",
   "source": [
    "state.neighbor.did_buffer_overflow"
   ],
   "metadata": {
    "id": "AHMusBd53ZWt"
   },
   "execution_count": null,
   "outputs": []
  },
  {
   "cell_type": "code",
   "source": [
    "renderer.render(\n",
    "    box,\n",
    "    {\n",
    "        'sand': renderer.Disk(trajectory.sand, color=colors),\n",
    "        'projectile': renderer.Disk(trajectory.projectile[:, None, :],\n",
    "                                    diameter=radius * 2)\n",
    "    },\n",
    "    buffer_size=10\n",
    ")"
   ],
   "metadata": {
    "id": "r27FVIBpz_B8"
   },
   "execution_count": null,
   "outputs": []
  }
 ]
}
